{
  "cells": [
    {
      "cell_type": "markdown",
      "source": [
        "**Name: A Rahul**  \n",
        "**Reg. No.: 20BRS1102**"
      ],
      "metadata": {
        "id": "JgMc5wt5hPJl"
      },
      "id": "JgMc5wt5hPJl"
    },
    {
      "cell_type": "markdown",
      "source": [
        "Exercise 1: Google-Net Model Execution"
      ],
      "metadata": {
        "id": "_-5145ZdheFW"
      },
      "id": "_-5145ZdheFW"
    },
    {
      "cell_type": "code",
      "execution_count": 1,
      "id": "9af5ffcd",
      "metadata": {
        "id": "9af5ffcd"
      },
      "outputs": [],
      "source": [
        "import tensorflow as tf\n",
        "import matplotlib.pyplot as plt\n",
        "from tensorflow.keras import datasets, layers, models, losses, Model"
      ]
    },
    {
      "cell_type": "code",
      "execution_count": 2,
      "id": "e34b842f",
      "metadata": {
        "colab": {
          "base_uri": "https://localhost:8080/"
        },
        "id": "e34b842f",
        "outputId": "7302eab3-8e6b-4b72-b5f0-3fec83479d59"
      },
      "outputs": [
        {
          "output_type": "stream",
          "name": "stdout",
          "text": [
            "Downloading data from https://storage.googleapis.com/tensorflow/tf-keras-datasets/mnist.npz\n",
            "11490434/11490434 [==============================] - 0s 0us/step\n"
          ]
        }
      ],
      "source": [
        "(x_train,y_train),(x_test,y_test) = datasets.mnist.load_data()\n",
        "x_train = tf.pad(x_train, [[0, 0], [2,2], [2,2]])/255\n",
        "x_test = tf.pad(x_test, [[0, 0], [2,2], [2,2]])/255\n",
        "x_train = tf.expand_dims(x_train, axis=3, name=None)\n",
        "x_test = tf.expand_dims(x_test, axis=3, name=None)\n",
        "x_train = tf.repeat(x_train, 3, axis=3)\n",
        "x_test = tf.repeat(x_test, 3, axis=3)\n",
        "x_val = x_train[-2000:,:,:,:]\n",
        "y_val = y_train[-2000:]\n",
        "x_train = x_train[:-2000,:,:,:]\n",
        "y_train = y_train[:-2000]"
      ]
    },
    {
      "cell_type": "code",
      "execution_count": 3,
      "id": "1d9a6e34",
      "metadata": {
        "id": "1d9a6e34"
      },
      "outputs": [],
      "source": [
        "def inception(x,filters_1x1,filters_3x3_reduce,filters_3x3,filters_5x5_reduce,filters_5x5,filters_pool):\n",
        "  path1 = layers.Conv2D(filters_1x1, (1, 1), padding='same',    activation='relu')(x)\n",
        "  path2 = layers.Conv2D(filters_3x3_reduce, (1, 1), padding='same', activation='relu')(x)\n",
        "  path2 = layers.Conv2D(filters_3x3, (1, 1), padding='same', activation='relu')(path2)\n",
        "  path3 = layers.Conv2D(filters_5x5_reduce, (1, 1), padding='same', activation='relu')(x)\n",
        "  path3 = layers.Conv2D(filters_5x5, (1, 1), padding='same', activation='relu')(path3)\n",
        "  path4 = layers.MaxPool2D((3, 3), strides=(1, 1), padding='same')(x)\n",
        "  path4 = layers.Conv2D(filters_pool, (1, 1), padding='same', activation='relu')(path4)\n",
        "  return tf.concat([path1, path2, path3, path4], axis=3)"
      ]
    },
    {
      "cell_type": "code",
      "execution_count": 4,
      "id": "81528837",
      "metadata": {
        "id": "81528837"
      },
      "outputs": [],
      "source": [
        "inp = layers.Input(shape=(32, 32, 3))\n",
        "input_tensor = layers.experimental.preprocessing.Resizing(224, 224, interpolation=\"bilinear\", input_shape=x_train.shape[1:])(inp)\n",
        "x = layers.Conv2D(64, 7, strides=2, padding='same', activation='relu')(input_tensor)\n",
        "x = layers.MaxPooling2D(3, strides=2)(x)\n",
        "x = layers.Conv2D(64, 1, strides=1, padding='same', activation='relu')(x)\n",
        "x = layers.Conv2D(192, 3, strides=1, padding='same', activation='relu')(x)\n",
        "x = layers.MaxPooling2D(3, strides=2)(x)\n",
        "x = inception(x, filters_1x1=64, filters_3x3_reduce=96, filters_3x3=128, filters_5x5_reduce=16, filters_5x5=32, filters_pool=32)\n",
        "x = inception(x, filters_1x1=128, filters_3x3_reduce=128, filters_3x3=192, filters_5x5_reduce=32, filters_5x5=96, filters_pool=64)\n",
        "x = layers.MaxPooling2D(3, strides=2)(x)\n",
        "x = inception(x, filters_1x1=192, filters_3x3_reduce=96, filters_3x3=208, filters_5x5_reduce=16, filters_5x5=48, filters_pool=64)\n",
        "aux1 = layers.AveragePooling2D((5, 5), strides=3)(x)\n",
        "aux1 =layers.Conv2D(128, 1, padding='same', activation='relu')(aux1)\n",
        "aux1 = layers.Flatten()(aux1)\n",
        "aux1 = layers.Dense(1024, activation='relu')(aux1)\n",
        "aux1 = layers.Dropout(0.7)(aux1)\n",
        "aux1 = layers.Dense(10, activation='softmax')(aux1)\n",
        "x = inception(x, filters_1x1=160, filters_3x3_reduce=112, filters_3x3=224, filters_5x5_reduce=24, filters_5x5=64, filters_pool=64)\n",
        "x = inception(x, filters_1x1=128, filters_3x3_reduce=128, filters_3x3=256, filters_5x5_reduce=24, filters_5x5=64, filters_pool=64)\n",
        "x = inception(x, filters_1x1=112, filters_3x3_reduce=144, filters_3x3=288, filters_5x5_reduce=32, filters_5x5=64, filters_pool=64)\n",
        "aux2 = layers.AveragePooling2D((5, 5), strides=3)(x)\n",
        "aux2 =layers.Conv2D(128, 1, padding='same', activation='relu')(aux2)\n",
        "aux2 = layers.Flatten()(aux2)\n",
        "aux2 = layers.Dense(1024, activation='relu')(aux2)\n",
        "aux2 = layers.Dropout(0.7)(aux2) \n",
        "aux2 = layers.Dense(10, activation='softmax')(aux2)\n",
        "x = inception(x, filters_1x1=256, filters_3x3_reduce=160, filters_3x3=320, filters_5x5_reduce=32, filters_5x5=128, filters_pool=128)\n",
        "x = layers.MaxPooling2D(3, strides=2)(x)\n",
        "x = inception(x, filters_1x1=256, filters_3x3_reduce=160, filters_3x3=320, filters_5x5_reduce=32, filters_5x5=128, filters_pool=128)\n",
        "x = inception(x, filters_1x1=384, filters_3x3_reduce=192, filters_3x3=384, filters_5x5_reduce=48, filters_5x5=128, filters_pool=128)\n",
        "x = layers.GlobalAveragePooling2D()(x)\n",
        "x = layers.Dropout(0.4)(x)\n",
        "out = layers.Dense(10, activation='softmax')(x)"
      ]
    },
    {
      "cell_type": "code",
      "execution_count": 5,
      "id": "bec6a4a8",
      "metadata": {
        "id": "bec6a4a8"
      },
      "outputs": [],
      "source": [
        "model = Model(inputs = inp, outputs = [out, aux1, aux2])"
      ]
    },
    {
      "cell_type": "code",
      "execution_count": 6,
      "id": "b55dfbdc",
      "metadata": {
        "colab": {
          "base_uri": "https://localhost:8080/"
        },
        "id": "b55dfbdc",
        "outputId": "dff0c171-7c10-4436-d06f-0267bc35fab2"
      },
      "outputs": [
        {
          "output_type": "stream",
          "name": "stdout",
          "text": [
            "Model: \"model\"\n",
            "__________________________________________________________________________________________________\n",
            " Layer (type)                   Output Shape         Param #     Connected to                     \n",
            "==================================================================================================\n",
            " input_1 (InputLayer)           [(None, 32, 32, 3)]  0           []                               \n",
            "                                                                                                  \n",
            " resizing (Resizing)            (None, 224, 224, 3)  0           ['input_1[0][0]']                \n",
            "                                                                                                  \n",
            " conv2d (Conv2D)                (None, 112, 112, 64  9472        ['resizing[0][0]']               \n",
            "                                )                                                                 \n",
            "                                                                                                  \n",
            " max_pooling2d (MaxPooling2D)   (None, 55, 55, 64)   0           ['conv2d[0][0]']                 \n",
            "                                                                                                  \n",
            " conv2d_1 (Conv2D)              (None, 55, 55, 64)   4160        ['max_pooling2d[0][0]']          \n",
            "                                                                                                  \n",
            " conv2d_2 (Conv2D)              (None, 55, 55, 192)  110784      ['conv2d_1[0][0]']               \n",
            "                                                                                                  \n",
            " max_pooling2d_1 (MaxPooling2D)  (None, 27, 27, 192)  0          ['conv2d_2[0][0]']               \n",
            "                                                                                                  \n",
            " conv2d_4 (Conv2D)              (None, 27, 27, 96)   18528       ['max_pooling2d_1[0][0]']        \n",
            "                                                                                                  \n",
            " conv2d_6 (Conv2D)              (None, 27, 27, 16)   3088        ['max_pooling2d_1[0][0]']        \n",
            "                                                                                                  \n",
            " max_pooling2d_2 (MaxPooling2D)  (None, 27, 27, 192)  0          ['max_pooling2d_1[0][0]']        \n",
            "                                                                                                  \n",
            " conv2d_3 (Conv2D)              (None, 27, 27, 64)   12352       ['max_pooling2d_1[0][0]']        \n",
            "                                                                                                  \n",
            " conv2d_5 (Conv2D)              (None, 27, 27, 128)  12416       ['conv2d_4[0][0]']               \n",
            "                                                                                                  \n",
            " conv2d_7 (Conv2D)              (None, 27, 27, 32)   544         ['conv2d_6[0][0]']               \n",
            "                                                                                                  \n",
            " conv2d_8 (Conv2D)              (None, 27, 27, 32)   6176        ['max_pooling2d_2[0][0]']        \n",
            "                                                                                                  \n",
            " tf.concat (TFOpLambda)         (None, 27, 27, 256)  0           ['conv2d_3[0][0]',               \n",
            "                                                                  'conv2d_5[0][0]',               \n",
            "                                                                  'conv2d_7[0][0]',               \n",
            "                                                                  'conv2d_8[0][0]']               \n",
            "                                                                                                  \n",
            " conv2d_10 (Conv2D)             (None, 27, 27, 128)  32896       ['tf.concat[0][0]']              \n",
            "                                                                                                  \n",
            " conv2d_12 (Conv2D)             (None, 27, 27, 32)   8224        ['tf.concat[0][0]']              \n",
            "                                                                                                  \n",
            " max_pooling2d_3 (MaxPooling2D)  (None, 27, 27, 256)  0          ['tf.concat[0][0]']              \n",
            "                                                                                                  \n",
            " conv2d_9 (Conv2D)              (None, 27, 27, 128)  32896       ['tf.concat[0][0]']              \n",
            "                                                                                                  \n",
            " conv2d_11 (Conv2D)             (None, 27, 27, 192)  24768       ['conv2d_10[0][0]']              \n",
            "                                                                                                  \n",
            " conv2d_13 (Conv2D)             (None, 27, 27, 96)   3168        ['conv2d_12[0][0]']              \n",
            "                                                                                                  \n",
            " conv2d_14 (Conv2D)             (None, 27, 27, 64)   16448       ['max_pooling2d_3[0][0]']        \n",
            "                                                                                                  \n",
            " tf.concat_1 (TFOpLambda)       (None, 27, 27, 480)  0           ['conv2d_9[0][0]',               \n",
            "                                                                  'conv2d_11[0][0]',              \n",
            "                                                                  'conv2d_13[0][0]',              \n",
            "                                                                  'conv2d_14[0][0]']              \n",
            "                                                                                                  \n",
            " max_pooling2d_4 (MaxPooling2D)  (None, 13, 13, 480)  0          ['tf.concat_1[0][0]']            \n",
            "                                                                                                  \n",
            " conv2d_16 (Conv2D)             (None, 13, 13, 96)   46176       ['max_pooling2d_4[0][0]']        \n",
            "                                                                                                  \n",
            " conv2d_18 (Conv2D)             (None, 13, 13, 16)   7696        ['max_pooling2d_4[0][0]']        \n",
            "                                                                                                  \n",
            " max_pooling2d_5 (MaxPooling2D)  (None, 13, 13, 480)  0          ['max_pooling2d_4[0][0]']        \n",
            "                                                                                                  \n",
            " conv2d_15 (Conv2D)             (None, 13, 13, 192)  92352       ['max_pooling2d_4[0][0]']        \n",
            "                                                                                                  \n",
            " conv2d_17 (Conv2D)             (None, 13, 13, 208)  20176       ['conv2d_16[0][0]']              \n",
            "                                                                                                  \n",
            " conv2d_19 (Conv2D)             (None, 13, 13, 48)   816         ['conv2d_18[0][0]']              \n",
            "                                                                                                  \n",
            " conv2d_20 (Conv2D)             (None, 13, 13, 64)   30784       ['max_pooling2d_5[0][0]']        \n",
            "                                                                                                  \n",
            " tf.concat_2 (TFOpLambda)       (None, 13, 13, 512)  0           ['conv2d_15[0][0]',              \n",
            "                                                                  'conv2d_17[0][0]',              \n",
            "                                                                  'conv2d_19[0][0]',              \n",
            "                                                                  'conv2d_20[0][0]']              \n",
            "                                                                                                  \n",
            " conv2d_23 (Conv2D)             (None, 13, 13, 112)  57456       ['tf.concat_2[0][0]']            \n",
            "                                                                                                  \n",
            " conv2d_25 (Conv2D)             (None, 13, 13, 24)   12312       ['tf.concat_2[0][0]']            \n",
            "                                                                                                  \n",
            " max_pooling2d_6 (MaxPooling2D)  (None, 13, 13, 512)  0          ['tf.concat_2[0][0]']            \n",
            "                                                                                                  \n",
            " conv2d_22 (Conv2D)             (None, 13, 13, 160)  82080       ['tf.concat_2[0][0]']            \n",
            "                                                                                                  \n",
            " conv2d_24 (Conv2D)             (None, 13, 13, 224)  25312       ['conv2d_23[0][0]']              \n",
            "                                                                                                  \n",
            " conv2d_26 (Conv2D)             (None, 13, 13, 64)   1600        ['conv2d_25[0][0]']              \n",
            "                                                                                                  \n",
            " conv2d_27 (Conv2D)             (None, 13, 13, 64)   32832       ['max_pooling2d_6[0][0]']        \n",
            "                                                                                                  \n",
            " tf.concat_3 (TFOpLambda)       (None, 13, 13, 512)  0           ['conv2d_22[0][0]',              \n",
            "                                                                  'conv2d_24[0][0]',              \n",
            "                                                                  'conv2d_26[0][0]',              \n",
            "                                                                  'conv2d_27[0][0]']              \n",
            "                                                                                                  \n",
            " conv2d_29 (Conv2D)             (None, 13, 13, 128)  65664       ['tf.concat_3[0][0]']            \n",
            "                                                                                                  \n",
            " conv2d_31 (Conv2D)             (None, 13, 13, 24)   12312       ['tf.concat_3[0][0]']            \n",
            "                                                                                                  \n",
            " max_pooling2d_7 (MaxPooling2D)  (None, 13, 13, 512)  0          ['tf.concat_3[0][0]']            \n",
            "                                                                                                  \n",
            " conv2d_28 (Conv2D)             (None, 13, 13, 128)  65664       ['tf.concat_3[0][0]']            \n",
            "                                                                                                  \n",
            " conv2d_30 (Conv2D)             (None, 13, 13, 256)  33024       ['conv2d_29[0][0]']              \n",
            "                                                                                                  \n",
            " conv2d_32 (Conv2D)             (None, 13, 13, 64)   1600        ['conv2d_31[0][0]']              \n",
            "                                                                                                  \n",
            " conv2d_33 (Conv2D)             (None, 13, 13, 64)   32832       ['max_pooling2d_7[0][0]']        \n",
            "                                                                                                  \n",
            " tf.concat_4 (TFOpLambda)       (None, 13, 13, 512)  0           ['conv2d_28[0][0]',              \n",
            "                                                                  'conv2d_30[0][0]',              \n",
            "                                                                  'conv2d_32[0][0]',              \n",
            "                                                                  'conv2d_33[0][0]']              \n",
            "                                                                                                  \n",
            " conv2d_35 (Conv2D)             (None, 13, 13, 144)  73872       ['tf.concat_4[0][0]']            \n",
            "                                                                                                  \n",
            " conv2d_37 (Conv2D)             (None, 13, 13, 32)   16416       ['tf.concat_4[0][0]']            \n",
            "                                                                                                  \n",
            " max_pooling2d_8 (MaxPooling2D)  (None, 13, 13, 512)  0          ['tf.concat_4[0][0]']            \n",
            "                                                                                                  \n",
            " conv2d_34 (Conv2D)             (None, 13, 13, 112)  57456       ['tf.concat_4[0][0]']            \n",
            "                                                                                                  \n",
            " conv2d_36 (Conv2D)             (None, 13, 13, 288)  41760       ['conv2d_35[0][0]']              \n",
            "                                                                                                  \n",
            " conv2d_38 (Conv2D)             (None, 13, 13, 64)   2112        ['conv2d_37[0][0]']              \n",
            "                                                                                                  \n",
            " conv2d_39 (Conv2D)             (None, 13, 13, 64)   32832       ['max_pooling2d_8[0][0]']        \n",
            "                                                                                                  \n",
            " tf.concat_5 (TFOpLambda)       (None, 13, 13, 528)  0           ['conv2d_34[0][0]',              \n",
            "                                                                  'conv2d_36[0][0]',              \n",
            "                                                                  'conv2d_38[0][0]',              \n",
            "                                                                  'conv2d_39[0][0]']              \n",
            "                                                                                                  \n",
            " conv2d_42 (Conv2D)             (None, 13, 13, 160)  84640       ['tf.concat_5[0][0]']            \n",
            "                                                                                                  \n",
            " conv2d_44 (Conv2D)             (None, 13, 13, 32)   16928       ['tf.concat_5[0][0]']            \n",
            "                                                                                                  \n",
            " max_pooling2d_9 (MaxPooling2D)  (None, 13, 13, 528)  0          ['tf.concat_5[0][0]']            \n",
            "                                                                                                  \n",
            " conv2d_41 (Conv2D)             (None, 13, 13, 256)  135424      ['tf.concat_5[0][0]']            \n",
            "                                                                                                  \n",
            " conv2d_43 (Conv2D)             (None, 13, 13, 320)  51520       ['conv2d_42[0][0]']              \n",
            "                                                                                                  \n",
            " conv2d_45 (Conv2D)             (None, 13, 13, 128)  4224        ['conv2d_44[0][0]']              \n",
            "                                                                                                  \n",
            " conv2d_46 (Conv2D)             (None, 13, 13, 128)  67712       ['max_pooling2d_9[0][0]']        \n",
            "                                                                                                  \n",
            " tf.concat_6 (TFOpLambda)       (None, 13, 13, 832)  0           ['conv2d_41[0][0]',              \n",
            "                                                                  'conv2d_43[0][0]',              \n",
            "                                                                  'conv2d_45[0][0]',              \n",
            "                                                                  'conv2d_46[0][0]']              \n",
            "                                                                                                  \n",
            " max_pooling2d_10 (MaxPooling2D  (None, 6, 6, 832)   0           ['tf.concat_6[0][0]']            \n",
            " )                                                                                                \n",
            "                                                                                                  \n",
            " conv2d_48 (Conv2D)             (None, 6, 6, 160)    133280      ['max_pooling2d_10[0][0]']       \n",
            "                                                                                                  \n",
            " conv2d_50 (Conv2D)             (None, 6, 6, 32)     26656       ['max_pooling2d_10[0][0]']       \n",
            "                                                                                                  \n",
            " max_pooling2d_11 (MaxPooling2D  (None, 6, 6, 832)   0           ['max_pooling2d_10[0][0]']       \n",
            " )                                                                                                \n",
            "                                                                                                  \n",
            " conv2d_47 (Conv2D)             (None, 6, 6, 256)    213248      ['max_pooling2d_10[0][0]']       \n",
            "                                                                                                  \n",
            " conv2d_49 (Conv2D)             (None, 6, 6, 320)    51520       ['conv2d_48[0][0]']              \n",
            "                                                                                                  \n",
            " conv2d_51 (Conv2D)             (None, 6, 6, 128)    4224        ['conv2d_50[0][0]']              \n",
            "                                                                                                  \n",
            " conv2d_52 (Conv2D)             (None, 6, 6, 128)    106624      ['max_pooling2d_11[0][0]']       \n",
            "                                                                                                  \n",
            " tf.concat_7 (TFOpLambda)       (None, 6, 6, 832)    0           ['conv2d_47[0][0]',              \n",
            "                                                                  'conv2d_49[0][0]',              \n",
            "                                                                  'conv2d_51[0][0]',              \n",
            "                                                                  'conv2d_52[0][0]']              \n",
            "                                                                                                  \n",
            " conv2d_54 (Conv2D)             (None, 6, 6, 192)    159936      ['tf.concat_7[0][0]']            \n",
            "                                                                                                  \n",
            " conv2d_56 (Conv2D)             (None, 6, 6, 48)     39984       ['tf.concat_7[0][0]']            \n",
            "                                                                                                  \n",
            " max_pooling2d_12 (MaxPooling2D  (None, 6, 6, 832)   0           ['tf.concat_7[0][0]']            \n",
            " )                                                                                                \n",
            "                                                                                                  \n",
            " average_pooling2d (AveragePool  (None, 3, 3, 512)   0           ['tf.concat_2[0][0]']            \n",
            " ing2D)                                                                                           \n",
            "                                                                                                  \n",
            " average_pooling2d_1 (AveragePo  (None, 3, 3, 528)   0           ['tf.concat_5[0][0]']            \n",
            " oling2D)                                                                                         \n",
            "                                                                                                  \n",
            " conv2d_53 (Conv2D)             (None, 6, 6, 384)    319872      ['tf.concat_7[0][0]']            \n",
            "                                                                                                  \n",
            " conv2d_55 (Conv2D)             (None, 6, 6, 384)    74112       ['conv2d_54[0][0]']              \n",
            "                                                                                                  \n",
            " conv2d_57 (Conv2D)             (None, 6, 6, 128)    6272        ['conv2d_56[0][0]']              \n",
            "                                                                                                  \n",
            " conv2d_58 (Conv2D)             (None, 6, 6, 128)    106624      ['max_pooling2d_12[0][0]']       \n",
            "                                                                                                  \n",
            " conv2d_21 (Conv2D)             (None, 3, 3, 128)    65664       ['average_pooling2d[0][0]']      \n",
            "                                                                                                  \n",
            " conv2d_40 (Conv2D)             (None, 3, 3, 128)    67712       ['average_pooling2d_1[0][0]']    \n",
            "                                                                                                  \n",
            " tf.concat_8 (TFOpLambda)       (None, 6, 6, 1024)   0           ['conv2d_53[0][0]',              \n",
            "                                                                  'conv2d_55[0][0]',              \n",
            "                                                                  'conv2d_57[0][0]',              \n",
            "                                                                  'conv2d_58[0][0]']              \n",
            "                                                                                                  \n",
            " flatten (Flatten)              (None, 1152)         0           ['conv2d_21[0][0]']              \n",
            "                                                                                                  \n",
            " flatten_1 (Flatten)            (None, 1152)         0           ['conv2d_40[0][0]']              \n",
            "                                                                                                  \n",
            " global_average_pooling2d (Glob  (None, 1024)        0           ['tf.concat_8[0][0]']            \n",
            " alAveragePooling2D)                                                                              \n",
            "                                                                                                  \n",
            " dense (Dense)                  (None, 1024)         1180672     ['flatten[0][0]']                \n",
            "                                                                                                  \n",
            " dense_2 (Dense)                (None, 1024)         1180672     ['flatten_1[0][0]']              \n",
            "                                                                                                  \n",
            " dropout_2 (Dropout)            (None, 1024)         0           ['global_average_pooling2d[0][0]'\n",
            "                                                                 ]                                \n",
            "                                                                                                  \n",
            " dropout (Dropout)              (None, 1024)         0           ['dense[0][0]']                  \n",
            "                                                                                                  \n",
            " dropout_1 (Dropout)            (None, 1024)         0           ['dense_2[0][0]']                \n",
            "                                                                                                  \n",
            " dense_4 (Dense)                (None, 10)           10250       ['dropout_2[0][0]']              \n",
            "                                                                                                  \n",
            " dense_1 (Dense)                (None, 10)           10250       ['dropout[0][0]']                \n",
            "                                                                                                  \n",
            " dense_3 (Dense)                (None, 10)           10250       ['dropout_1[0][0]']              \n",
            "                                                                                                  \n",
            "==================================================================================================\n",
            "Total params: 5,269,326\n",
            "Trainable params: 5,269,326\n",
            "Non-trainable params: 0\n",
            "__________________________________________________________________________________________________\n"
          ]
        }
      ],
      "source": [
        "model.summary()"
      ]
    },
    {
      "cell_type": "code",
      "execution_count": 7,
      "id": "f8b9234e",
      "metadata": {
        "colab": {
          "base_uri": "https://localhost:8080/"
        },
        "id": "f8b9234e",
        "outputId": "395b3d5f-2aae-4617-8918-e0a5740094a0"
      },
      "outputs": [
        {
          "output_type": "stream",
          "name": "stdout",
          "text": [
            "Epoch 1/5\n",
            "227/227 [==============================] - 182s 627ms/step - loss: 1.7607 - dense_4_loss: 1.3064 - dense_1_loss: 0.7165 - dense_3_loss: 0.7976 - dense_4_accuracy: 0.5240 - dense_1_accuracy: 0.7521 - dense_3_accuracy: 0.7201 - val_loss: 0.4208 - val_dense_4_loss: 0.3416 - val_dense_1_loss: 0.1265 - val_dense_3_loss: 0.1376 - val_dense_4_accuracy: 0.9010 - val_dense_1_accuracy: 0.9670 - val_dense_3_accuracy: 0.9620\n",
            "Epoch 2/5\n",
            "227/227 [==============================] - 135s 597ms/step - loss: 0.3192 - dense_4_loss: 0.2271 - dense_1_loss: 0.1474 - dense_3_loss: 0.1598 - dense_4_accuracy: 0.9306 - dense_1_accuracy: 0.9549 - dense_3_accuracy: 0.9498 - val_loss: 0.1317 - val_dense_4_loss: 0.0917 - val_dense_1_loss: 0.0631 - val_dense_3_loss: 0.0702 - val_dense_4_accuracy: 0.9700 - val_dense_1_accuracy: 0.9840 - val_dense_3_accuracy: 0.9795\n",
            "Epoch 3/5\n",
            "227/227 [==============================] - 135s 596ms/step - loss: 0.1736 - dense_4_loss: 0.1155 - dense_1_loss: 0.0916 - dense_3_loss: 0.1021 - dense_4_accuracy: 0.9638 - dense_1_accuracy: 0.9717 - dense_3_accuracy: 0.9688 - val_loss: 0.1071 - val_dense_4_loss: 0.0703 - val_dense_1_loss: 0.0552 - val_dense_3_loss: 0.0676 - val_dense_4_accuracy: 0.9780 - val_dense_1_accuracy: 0.9855 - val_dense_3_accuracy: 0.9810\n",
            "Epoch 4/5\n",
            "227/227 [==============================] - 135s 596ms/step - loss: 0.1319 - dense_4_loss: 0.0858 - dense_1_loss: 0.0731 - dense_3_loss: 0.0806 - dense_4_accuracy: 0.9736 - dense_1_accuracy: 0.9771 - dense_3_accuracy: 0.9755 - val_loss: 0.0667 - val_dense_4_loss: 0.0411 - val_dense_1_loss: 0.0453 - val_dense_3_loss: 0.0402 - val_dense_4_accuracy: 0.9885 - val_dense_1_accuracy: 0.9865 - val_dense_3_accuracy: 0.9895\n",
            "Epoch 5/5\n",
            "227/227 [==============================] - 135s 595ms/step - loss: 0.1075 - dense_4_loss: 0.0685 - dense_1_loss: 0.0637 - dense_3_loss: 0.0664 - dense_4_accuracy: 0.9782 - dense_1_accuracy: 0.9809 - dense_3_accuracy: 0.9798 - val_loss: 0.0741 - val_dense_4_loss: 0.0511 - val_dense_1_loss: 0.0372 - val_dense_3_loss: 0.0396 - val_dense_4_accuracy: 0.9875 - val_dense_1_accuracy: 0.9905 - val_dense_3_accuracy: 0.9895\n"
          ]
        }
      ],
      "source": [
        "model.compile(optimizer='adam', \n",
        "              loss=[losses.sparse_categorical_crossentropy,\n",
        "                    losses.sparse_categorical_crossentropy,\n",
        "                    losses.sparse_categorical_crossentropy]\n",
        "              ,loss_weights=[1, 0.3, 0.3],\n",
        "              metrics=['accuracy'])\n",
        "\n",
        "with tf.device('/device:GPU:0'):\n",
        "  history = model.fit(x_train, [y_train, y_train, y_train], validation_data=(x_val, [y_val, y_val, y_val]), batch_size=256, epochs=5)"
      ]
    },
    {
      "cell_type": "code",
      "source": [
        "with tf.device('/device:GPU:0'):\n",
        "  lst=model.evaluate(x_test,y_test)\n",
        "lst"
      ],
      "metadata": {
        "colab": {
          "base_uri": "https://localhost:8080/"
        },
        "id": "6l1pWKQpiMnE",
        "outputId": "ec8a0dda-505f-4a94-bc23-0093ad460b0a"
      },
      "id": "6l1pWKQpiMnE",
      "execution_count": 8,
      "outputs": [
        {
          "output_type": "stream",
          "name": "stdout",
          "text": [
            "313/313 [==============================] - 11s 30ms/step - loss: 0.0665 - dense_4_loss: 0.0462 - dense_1_loss: 0.0328 - dense_3_loss: 0.0346 - dense_4_accuracy: 0.9832 - dense_1_accuracy: 0.9900 - dense_3_accuracy: 0.9875\n"
          ]
        },
        {
          "output_type": "execute_result",
          "data": {
            "text/plain": [
              "[0.06647558510303497,\n",
              " 0.04624173417687416,\n",
              " 0.03281347081065178,\n",
              " 0.03463263064622879,\n",
              " 0.9832000136375427,\n",
              " 0.9900000095367432,\n",
              " 0.987500011920929]"
            ]
          },
          "metadata": {},
          "execution_count": 8
        }
      ]
    },
    {
      "cell_type": "markdown",
      "source": [
        "Exercise 2: Visualization of 1*1 Convolution"
      ],
      "metadata": {
        "id": "2ca4KgaahpIO"
      },
      "id": "2ca4KgaahpIO"
    },
    {
      "cell_type": "code",
      "execution_count": 9,
      "id": "cb8426ce",
      "metadata": {
        "id": "cb8426ce",
        "outputId": "1a7f8ddc-073b-496d-912c-3a306eba1765",
        "colab": {
          "base_uri": "https://localhost:8080/",
          "height": 473
        }
      },
      "outputs": [
        {
          "output_type": "stream",
          "name": "stdout",
          "text": [
            "Model: \"sequential\"\n",
            "_________________________________________________________________\n",
            " Layer (type)                Output Shape              Param #   \n",
            "=================================================================\n",
            " conv2d_59 (Conv2D)          (None, 28, 28, 32)        128       \n",
            "                                                                 \n",
            "=================================================================\n",
            "Total params: 128\n",
            "Trainable params: 128\n",
            "Non-trainable params: 0\n",
            "_________________________________________________________________\n",
            "1/1 [==============================] - 0s 99ms/step\n"
          ]
        },
        {
          "output_type": "display_data",
          "data": {
            "text/plain": [
              "<Figure size 432x288 with 1 Axes>"
            ],
            "image/png": "[encoded data removed]"
          },
          "metadata": {
            "needs_background": "light"
          }
        }
      ],
      "source": [
        "import tensorflow as tf\n",
        "from tensorflow.keras.models import Sequential\n",
        "from tensorflow.keras.layers import Conv2D\n",
        "import matplotlib.pyplot as plt\n",
        "import numpy as np\n",
        "\n",
        "# Define input tensor\n",
        "input_tensor = np.random.rand(1, 28, 28, 3)\n",
        "\n",
        "# Define model with 1x1 convolution layer\n",
        "model = Sequential()\n",
        "model.add(Conv2D(32, (1, 1), activation='relu', input_shape=(28, 28, 3)))\n",
        "\n",
        "# Compile model\n",
        "model.compile(optimizer='adam', loss='mse')\n",
        "\n",
        "# Print model summary\n",
        "model.summary()\n",
        "\n",
        "# Visualize output of 1x1 convolution layer\n",
        "output_tensor = model.predict(input_tensor)\n",
        "plt.imshow(output_tensor[0, :, :, 0], cmap='gray')\n",
        "plt.show()"
      ]
    },
    {
      "cell_type": "markdown",
      "source": [
        "Exercise 3: Visualization of Batch Normalization"
      ],
      "metadata": {
        "id": "bSCE1oC-hy1s"
      },
      "id": "bSCE1oC-hy1s"
    },
    {
      "cell_type": "code",
      "execution_count": 10,
      "id": "4068daa9",
      "metadata": {
        "id": "4068daa9",
        "outputId": "17280c78-87a1-4f97-e867-0925e9a8ae8a",
        "colab": {
          "base_uri": "https://localhost:8080/",
          "height": 774
        }
      },
      "outputs": [
        {
          "output_type": "stream",
          "name": "stdout",
          "text": [
            "Epoch 1/10\n",
            "1875/1875 [==============================] - 9s 4ms/step - loss: 0.2491 - accuracy: 0.9284 - val_loss: 0.1233 - val_accuracy: 0.9635\n",
            "Epoch 2/10\n",
            "1875/1875 [==============================] - 7s 4ms/step - loss: 0.1254 - accuracy: 0.9630 - val_loss: 0.0922 - val_accuracy: 0.9731\n",
            "Epoch 3/10\n",
            "1875/1875 [==============================] - 6s 3ms/step - loss: 0.0924 - accuracy: 0.9720 - val_loss: 0.0782 - val_accuracy: 0.9756\n",
            "Epoch 4/10\n",
            "1875/1875 [==============================] - 8s 4ms/step - loss: 0.0745 - accuracy: 0.9776 - val_loss: 0.0824 - val_accuracy: 0.9750\n",
            "Epoch 5/10\n",
            "1875/1875 [==============================] - 7s 4ms/step - loss: 0.0625 - accuracy: 0.9811 - val_loss: 0.0740 - val_accuracy: 0.9772\n",
            "Epoch 6/10\n",
            "1875/1875 [==============================] - 7s 4ms/step - loss: 0.0521 - accuracy: 0.9842 - val_loss: 0.0647 - val_accuracy: 0.9805\n",
            "Epoch 7/10\n",
            "1875/1875 [==============================] - 7s 4ms/step - loss: 0.0467 - accuracy: 0.9847 - val_loss: 0.0654 - val_accuracy: 0.9795\n",
            "Epoch 8/10\n",
            "1875/1875 [==============================] - 7s 4ms/step - loss: 0.0411 - accuracy: 0.9870 - val_loss: 0.0754 - val_accuracy: 0.9789\n",
            "Epoch 9/10\n",
            "1875/1875 [==============================] - 8s 4ms/step - loss: 0.0365 - accuracy: 0.9877 - val_loss: 0.0817 - val_accuracy: 0.9774\n",
            "Epoch 10/10\n",
            "1875/1875 [==============================] - 7s 4ms/step - loss: 0.0343 - accuracy: 0.9887 - val_loss: 0.0685 - val_accuracy: 0.9828\n",
            "313/313 [==============================] - 1s 2ms/step\n"
          ]
        },
        {
          "output_type": "display_data",
          "data": {
            "text/plain": [
              "<Figure size 864x432 with 2 Axes>"
            ],
            "image/png": "[encoded data removed]"
          },
          "metadata": {
            "needs_background": "light"
          }
        }
      ],
      "source": [
        "import numpy as np\n",
        "import matplotlib.pyplot as plt\n",
        "import tensorflow as tf\n",
        "\n",
        "# Load the MNIST dataset\n",
        "(x_train, y_train), (x_test, y_test) = tf.keras.datasets.mnist.load_data()\n",
        "\n",
        "# Normalize the pixel values\n",
        "x_train = x_train / 255.0\n",
        "x_test = x_test / 255.0\n",
        "\n",
        "# Define the neural network architecture\n",
        "model = tf.keras.models.Sequential([\n",
        "    tf.keras.layers.Flatten(input_shape=(28, 28)),\n",
        "    tf.keras.layers.Dense(128),\n",
        "    tf.keras.layers.BatchNormalization(),\n",
        "    tf.keras.layers.Activation('relu'),\n",
        "    tf.keras.layers.Dense(10, activation='softmax')\n",
        "])\n",
        "\n",
        "# Compile the model\n",
        "model.compile(optimizer='adam',\n",
        "              loss='sparse_categorical_crossentropy',\n",
        "              metrics=['accuracy'])\n",
        "\n",
        "# Train the model\n",
        "with tf.device('/device:GPU:0'):\n",
        "  history = model.fit(x_train, y_train, epochs=10, validation_data=(x_test, y_test))\n",
        "\n",
        "# Get the activations of the second layer with and without batch normalization\n",
        "layer_activations = tf.keras.models.Model(inputs=model.inputs, outputs=[model.layers[1].output, model.layers[2].output])\n",
        "activations_without_bn, activations_with_bn = layer_activations.predict(x_test)\n",
        "\n",
        "# Visualize the activations\n",
        "plt.figure(figsize=(12,6))\n",
        "plt.subplot(1, 2, 1)\n",
        "plt.hist(activations_without_bn.flatten(), bins=50)\n",
        "plt.title('Without Batch Normalization')\n",
        "plt.subplot(1, 2, 2)\n",
        "plt.hist(activations_with_bn.flatten(), bins=50)\n",
        "plt.title('With Batch Normalization')\n",
        "plt.show()\n"
      ]
    }
  ],
  "metadata": {
    "kernelspec": {
      "display_name": "Python 3 (ipykernel)",
      "language": "python",
      "name": "python3"
    },
    "language_info": {
      "codemirror_mode": {
        "name": "ipython",
        "version": 3
      },
      "file_extension": ".py",
      "mimetype": "text/x-python",
      "name": "python",
      "nbconvert_exporter": "python",
      "pygments_lexer": "ipython3",
      "version": "3.9.15"
    },
    "colab": {
      "provenance": []
    },
    "accelerator": "GPU",
    "gpuClass": "standard"
  },
  "nbformat": 4,
  "nbformat_minor": 5
}