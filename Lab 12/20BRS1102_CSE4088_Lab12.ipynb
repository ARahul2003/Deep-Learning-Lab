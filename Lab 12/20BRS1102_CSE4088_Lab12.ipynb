{
  "cells": [
    {
      "cell_type": "markdown",
      "source": [
        "Name: A Rahul  \n",
        "Reg. No.: 20BRS112"
      ],
      "metadata": {
        "id": "1hv-Kip3bkOV"
      }
    },
    {
      "cell_type": "code",
      "source": [
        "from google.colab import drive\n",
        "drive.mount('/content/drive')"
      ],
      "metadata": {
        "colab": {
          "base_uri": "https://localhost:8080/"
        },
        "id": "PMrzL1zpRdPB",
        "outputId": "ee494ed8-e806-4ce3-de55-828cdba65026"
      },
      "execution_count": 1,
      "outputs": [
        {
          "output_type": "stream",
          "name": "stdout",
          "text": [
            "Mounted at /content/drive\n"
          ]
        }
      ]
    },
    {
      "cell_type": "code",
      "source": [
        "cd /content/drive/MyDrive/20BRS1102 Deep Learning Lab/Lab 12 - 23 03 2023"
      ],
      "metadata": {
        "colab": {
          "base_uri": "https://localhost:8080/"
        },
        "id": "0J4hz9RO-0us",
        "outputId": "70e29344-fd36-4bae-e912-ef1905c5f71b"
      },
      "execution_count": 2,
      "outputs": [
        {
          "output_type": "stream",
          "name": "stdout",
          "text": [
            "/content/drive/MyDrive/20BRS1102 Deep Learning Lab/Lab 12 - 23 03 2023\n"
          ]
        }
      ]
    },
    {
      "cell_type": "markdown",
      "metadata": {
        "_cell_guid": "39c44f0e-d62c-7e11-a542-4fcd58e21442",
        "_uuid": "4efef6a6c3143fbb6bca5903fc1a764bbbb861c4",
        "id": "ZdszI2wRQ4PX"
      },
      "source": [
        "# Question 1 : Movie review sentimental analysis using LSTMs\n"
      ]
    },
    {
      "cell_type": "code",
      "execution_count": null,
      "metadata": {
        "_cell_guid": "6c53202d-5c34-4859-e7e9-8ef5c7068287",
        "_uuid": "717bb968c36b9325c7d4cae5724a3672e49ff243",
        "id": "Rj-Ft9huQ4PX"
      },
      "outputs": [],
      "source": [
        "import numpy as np # linear algebra\n",
        "import pandas as pd # data processing, CSV file I/O (e.g. pd.read_csv)\n",
        "\n",
        "from sklearn.feature_extraction.text import CountVectorizer\n",
        "from keras.preprocessing.text import Tokenizer\n",
        "from tensorflow.keras.preprocessing.sequence import pad_sequences   # to do padding or truncating\n",
        "from tensorflow.keras.models import Sequential\n",
        "from keras.layers import Dense, Embedding, LSTM, SpatialDropout1D\n",
        "from sklearn.model_selection import train_test_split\n",
        "from keras.utils.np_utils import to_categorical\n",
        "from sklearn.utils import resample\n",
        "from sklearn.utils import shuffle\n",
        "from sklearn.metrics import confusion_matrix,classification_report\n",
        "import re"
      ]
    },
    {
      "cell_type": "code",
      "execution_count": null,
      "metadata": {
        "_cell_guid": "89c8c923-c0bf-7b35-9ab8-e63f00b74e5a",
        "_uuid": "d2bc3bbd2ea3961c49e6673145a0a7226c160e58",
        "id": "BpZz4F6uQ4PZ"
      },
      "outputs": [],
      "source": [
        "data = pd.read_csv('./Sentiment.csv')\n",
        "# Keeping only the neccessary columns\n",
        "data = data[['text','sentiment']]"
      ]
    },
    {
      "cell_type": "code",
      "execution_count": null,
      "metadata": {
        "_uuid": "f6a102c71c8e281450f7e73a5678cc9d0bb99e99",
        "colab": {
          "base_uri": "https://localhost:8080/",
          "height": 206
        },
        "id": "jU2RdRAjQ4PZ",
        "outputId": "68b5b86f-c547-428e-f4a7-0c851a00c36f"
      },
      "outputs": [
        {
          "output_type": "execute_result",
          "data": {
            "text/plain": [
              "                                                text sentiment\n",
              "0  RT @NancyLeeGrahn: How did everyone feel about...   Neutral\n",
              "1  RT @ScottWalker: Didn't catch the full #GOPdeb...  Positive\n",
              "2  RT @TJMShow: No mention of Tamir Rice and the ...   Neutral\n",
              "3  RT @RobGeorge: That Carly Fiorina is trending ...  Positive\n",
              "4  RT @DanScavino: #GOPDebate w/ @realDonaldTrump...  Positive"
            ],
            "text/html": [
              "\n",
              "  <div id=\"df-88576fc3-e9a7-4c0a-bf34-641cd6bda22b\">\n",
              "    <div class=\"colab-df-container\">\n",
              "      <div>\n",
              "<style scoped>\n",
              "    .dataframe tbody tr th:only-of-type {\n",
              "        vertical-align: middle;\n",
              "    }\n",
              "\n",
              "    .dataframe tbody tr th {\n",
              "        vertical-align: top;\n",
              "    }\n",
              "\n",
              "    .dataframe thead th {\n",
              "        text-align: right;\n",
              "    }\n",
              "</style>\n",
              "<table border=\"1\" class=\"dataframe\">\n",
              "  <thead>\n",
              "    <tr style=\"text-align: right;\">\n",
              "      <th></th>\n",
              "      <th>text</th>\n",
              "      <th>sentiment</th>\n",
              "    </tr>\n",
              "  </thead>\n",
              "  <tbody>\n",
              "    <tr>\n",
              "      <th>0</th>\n",
              "      <td>RT @NancyLeeGrahn: How did everyone feel about...</td>\n",
              "      <td>Neutral</td>\n",
              "    </tr>\n",
              "    <tr>\n",
              "      <th>1</th>\n",
              "      <td>RT @ScottWalker: Didn't catch the full #GOPdeb...</td>\n",
              "      <td>Positive</td>\n",
              "    </tr>\n",
              "    <tr>\n",
              "      <th>2</th>\n",
              "      <td>RT @TJMShow: No mention of Tamir Rice and the ...</td>\n",
              "      <td>Neutral</td>\n",
              "    </tr>\n",
              "    <tr>\n",
              "      <th>3</th>\n",
              "      <td>RT @RobGeorge: That Carly Fiorina is trending ...</td>\n",
              "      <td>Positive</td>\n",
              "    </tr>\n",
              "    <tr>\n",
              "      <th>4</th>\n",
              "      <td>RT @DanScavino: #GOPDebate w/ @realDonaldTrump...</td>\n",
              "      <td>Positive</td>\n",
              "    </tr>\n",
              "  </tbody>\n",
              "</table>\n",
              "</div>\n",
              "      <button class=\"colab-df-convert\" onclick=\"convertToInteractive('df-88576fc3-e9a7-4c0a-bf34-641cd6bda22b')\"\n",
              "              title=\"Convert this dataframe to an interactive table.\"\n",
              "              style=\"display:none;\">\n",
              "        \n",
              "  <svg xmlns=\"http://www.w3.org/2000/svg\" height=\"24px\"viewBox=\"0 0 24 24\"\n",
              "       width=\"24px\">\n",
              "    <path d=\"M0 0h24v24H0V0z\" fill=\"none\"/>\n",
              "    <path d=\"M18.56 5.44l.94 2.06.94-2.06 2.06-.94-2.06-.94-.94-2.06-.94 2.06-2.06.94zm-11 1L8.5 8.5l.94-2.06 2.06-.94-2.06-.94L8.5 2.5l-.94 2.06-2.06.94zm10 10l.94 2.06.94-2.06 2.06-.94-2.06-.94-.94-2.06-.94 2.06-2.06.94z\"/><path d=\"M17.41 7.96l-1.37-1.37c-.4-.4-.92-.59-1.43-.59-.52 0-1.04.2-1.43.59L10.3 9.45l-7.72 7.72c-.78.78-.78 2.05 0 2.83L4 21.41c.39.39.9.59 1.41.59.51 0 1.02-.2 1.41-.59l7.78-7.78 2.81-2.81c.8-.78.8-2.07 0-2.86zM5.41 20L4 18.59l7.72-7.72 1.47 1.35L5.41 20z\"/>\n",
              "  </svg>\n",
              "      </button>\n",
              "      \n",
              "  <style>\n",
              "    .colab-df-container {\n",
              "      display:flex;\n",
              "      flex-wrap:wrap;\n",
              "      gap: 12px;\n",
              "    }\n",
              "\n",
              "    .colab-df-convert {\n",
              "      background-color: #E8F0FE;\n",
              "      border: none;\n",
              "      border-radius: 50%;\n",
              "      cursor: pointer;\n",
              "      display: none;\n",
              "      fill: #1967D2;\n",
              "      height: 32px;\n",
              "      padding: 0 0 0 0;\n",
              "      width: 32px;\n",
              "    }\n",
              "\n",
              "    .colab-df-convert:hover {\n",
              "      background-color: #E2EBFA;\n",
              "      box-shadow: 0px 1px 2px rgba(60, 64, 67, 0.3), 0px 1px 3px 1px rgba(60, 64, 67, 0.15);\n",
              "      fill: #174EA6;\n",
              "    }\n",
              "\n",
              "    [theme=dark] .colab-df-convert {\n",
              "      background-color: #3B4455;\n",
              "      fill: #D2E3FC;\n",
              "    }\n",
              "\n",
              "    [theme=dark] .colab-df-convert:hover {\n",
              "      background-color: #434B5C;\n",
              "      box-shadow: 0px 1px 3px 1px rgba(0, 0, 0, 0.15);\n",
              "      filter: drop-shadow(0px 1px 2px rgba(0, 0, 0, 0.3));\n",
              "      fill: #FFFFFF;\n",
              "    }\n",
              "  </style>\n",
              "\n",
              "      <script>\n",
              "        const buttonEl =\n",
              "          document.querySelector('#df-88576fc3-e9a7-4c0a-bf34-641cd6bda22b button.colab-df-convert');\n",
              "        buttonEl.style.display =\n",
              "          google.colab.kernel.accessAllowed ? 'block' : 'none';\n",
              "\n",
              "        async function convertToInteractive(key) {\n",
              "          const element = document.querySelector('#df-88576fc3-e9a7-4c0a-bf34-641cd6bda22b');\n",
              "          const dataTable =\n",
              "            await google.colab.kernel.invokeFunction('convertToInteractive',\n",
              "                                                     [key], {});\n",
              "          if (!dataTable) return;\n",
              "\n",
              "          const docLinkHtml = 'Like what you see? Visit the ' +\n",
              "            '<a target=\"_blank\" href=https://colab.research.google.com/notebooks/data_table.ipynb>data table notebook</a>'\n",
              "            + ' to learn more about interactive tables.';\n",
              "          element.innerHTML = '';\n",
              "          dataTable['output_type'] = 'display_data';\n",
              "          await google.colab.output.renderOutput(dataTable, element);\n",
              "          const docLink = document.createElement('div');\n",
              "          docLink.innerHTML = docLinkHtml;\n",
              "          element.appendChild(docLink);\n",
              "        }\n",
              "      </script>\n",
              "    </div>\n",
              "  </div>\n",
              "  "
            ]
          },
          "metadata": {},
          "execution_count": 4
        }
      ],
      "source": [
        "data.head()  "
      ]
    },
    {
      "cell_type": "code",
      "execution_count": null,
      "metadata": {
        "_cell_guid": "43632d2d-6160-12ce-48b0-e5eb1c207076",
        "_uuid": "d0f8b4542106a279f7398db7285ae5e370b2e813",
        "colab": {
          "base_uri": "https://localhost:8080/",
          "height": 414
        },
        "id": "tX-2E7ilQ4Pa",
        "outputId": "c0467926-d7c2-4c4e-8ff1-eaa6b20e3a71"
      },
      "outputs": [
        {
          "output_type": "stream",
          "name": "stderr",
          "text": [
            "<ipython-input-5-f8f03ba23afd>:2: SettingWithCopyWarning: \n",
            "A value is trying to be set on a copy of a slice from a DataFrame.\n",
            "Try using .loc[row_indexer,col_indexer] = value instead\n",
            "\n",
            "See the caveats in the documentation: https://pandas.pydata.org/pandas-docs/stable/user_guide/indexing.html#returning-a-view-versus-a-copy\n",
            "  data['text'] = data['text'].apply(lambda x: x.lower())\n",
            "<ipython-input-5-f8f03ba23afd>:4: SettingWithCopyWarning: \n",
            "A value is trying to be set on a copy of a slice from a DataFrame.\n",
            "Try using .loc[row_indexer,col_indexer] = value instead\n",
            "\n",
            "See the caveats in the documentation: https://pandas.pydata.org/pandas-docs/stable/user_guide/indexing.html#returning-a-view-versus-a-copy\n",
            "  data['text'] = data['text'].apply((lambda x: re.sub('[^a-zA-z0-9\\s]','',x)))\n"
          ]
        },
        {
          "output_type": "execute_result",
          "data": {
            "text/plain": [
              "                                                text sentiment\n",
              "1  rt scottwalker didnt catch the full gopdebate ...  Positive\n",
              "3  rt robgeorge that carly fiorina is trending  h...  Positive\n",
              "4  rt danscavino gopdebate w realdonaldtrump deli...  Positive\n",
              "5  rt gregabbott_tx tedcruz on my first day i wil...  Positive\n",
              "6  rt warriorwoman91 i liked her and was happy wh...  Negative"
            ],
            "text/html": [
              "\n",
              "  <div id=\"df-027c6032-be27-42e0-9f59-5a2c2a217141\">\n",
              "    <div class=\"colab-df-container\">\n",
              "      <div>\n",
              "<style scoped>\n",
              "    .dataframe tbody tr th:only-of-type {\n",
              "        vertical-align: middle;\n",
              "    }\n",
              "\n",
              "    .dataframe tbody tr th {\n",
              "        vertical-align: top;\n",
              "    }\n",
              "\n",
              "    .dataframe thead th {\n",
              "        text-align: right;\n",
              "    }\n",
              "</style>\n",
              "<table border=\"1\" class=\"dataframe\">\n",
              "  <thead>\n",
              "    <tr style=\"text-align: right;\">\n",
              "      <th></th>\n",
              "      <th>text</th>\n",
              "      <th>sentiment</th>\n",
              "    </tr>\n",
              "  </thead>\n",
              "  <tbody>\n",
              "    <tr>\n",
              "      <th>1</th>\n",
              "      <td>rt scottwalker didnt catch the full gopdebate ...</td>\n",
              "      <td>Positive</td>\n",
              "    </tr>\n",
              "    <tr>\n",
              "      <th>3</th>\n",
              "      <td>rt robgeorge that carly fiorina is trending  h...</td>\n",
              "      <td>Positive</td>\n",
              "    </tr>\n",
              "    <tr>\n",
              "      <th>4</th>\n",
              "      <td>rt danscavino gopdebate w realdonaldtrump deli...</td>\n",
              "      <td>Positive</td>\n",
              "    </tr>\n",
              "    <tr>\n",
              "      <th>5</th>\n",
              "      <td>rt gregabbott_tx tedcruz on my first day i wil...</td>\n",
              "      <td>Positive</td>\n",
              "    </tr>\n",
              "    <tr>\n",
              "      <th>6</th>\n",
              "      <td>rt warriorwoman91 i liked her and was happy wh...</td>\n",
              "      <td>Negative</td>\n",
              "    </tr>\n",
              "  </tbody>\n",
              "</table>\n",
              "</div>\n",
              "      <button class=\"colab-df-convert\" onclick=\"convertToInteractive('df-027c6032-be27-42e0-9f59-5a2c2a217141')\"\n",
              "              title=\"Convert this dataframe to an interactive table.\"\n",
              "              style=\"display:none;\">\n",
              "        \n",
              "  <svg xmlns=\"http://www.w3.org/2000/svg\" height=\"24px\"viewBox=\"0 0 24 24\"\n",
              "       width=\"24px\">\n",
              "    <path d=\"M0 0h24v24H0V0z\" fill=\"none\"/>\n",
              "    <path d=\"M18.56 5.44l.94 2.06.94-2.06 2.06-.94-2.06-.94-.94-2.06-.94 2.06-2.06.94zm-11 1L8.5 8.5l.94-2.06 2.06-.94-2.06-.94L8.5 2.5l-.94 2.06-2.06.94zm10 10l.94 2.06.94-2.06 2.06-.94-2.06-.94-.94-2.06-.94 2.06-2.06.94z\"/><path d=\"M17.41 7.96l-1.37-1.37c-.4-.4-.92-.59-1.43-.59-.52 0-1.04.2-1.43.59L10.3 9.45l-7.72 7.72c-.78.78-.78 2.05 0 2.83L4 21.41c.39.39.9.59 1.41.59.51 0 1.02-.2 1.41-.59l7.78-7.78 2.81-2.81c.8-.78.8-2.07 0-2.86zM5.41 20L4 18.59l7.72-7.72 1.47 1.35L5.41 20z\"/>\n",
              "  </svg>\n",
              "      </button>\n",
              "      \n",
              "  <style>\n",
              "    .colab-df-container {\n",
              "      display:flex;\n",
              "      flex-wrap:wrap;\n",
              "      gap: 12px;\n",
              "    }\n",
              "\n",
              "    .colab-df-convert {\n",
              "      background-color: #E8F0FE;\n",
              "      border: none;\n",
              "      border-radius: 50%;\n",
              "      cursor: pointer;\n",
              "      display: none;\n",
              "      fill: #1967D2;\n",
              "      height: 32px;\n",
              "      padding: 0 0 0 0;\n",
              "      width: 32px;\n",
              "    }\n",
              "\n",
              "    .colab-df-convert:hover {\n",
              "      background-color: #E2EBFA;\n",
              "      box-shadow: 0px 1px 2px rgba(60, 64, 67, 0.3), 0px 1px 3px 1px rgba(60, 64, 67, 0.15);\n",
              "      fill: #174EA6;\n",
              "    }\n",
              "\n",
              "    [theme=dark] .colab-df-convert {\n",
              "      background-color: #3B4455;\n",
              "      fill: #D2E3FC;\n",
              "    }\n",
              "\n",
              "    [theme=dark] .colab-df-convert:hover {\n",
              "      background-color: #434B5C;\n",
              "      box-shadow: 0px 1px 3px 1px rgba(0, 0, 0, 0.15);\n",
              "      filter: drop-shadow(0px 1px 2px rgba(0, 0, 0, 0.3));\n",
              "      fill: #FFFFFF;\n",
              "    }\n",
              "  </style>\n",
              "\n",
              "      <script>\n",
              "        const buttonEl =\n",
              "          document.querySelector('#df-027c6032-be27-42e0-9f59-5a2c2a217141 button.colab-df-convert');\n",
              "        buttonEl.style.display =\n",
              "          google.colab.kernel.accessAllowed ? 'block' : 'none';\n",
              "\n",
              "        async function convertToInteractive(key) {\n",
              "          const element = document.querySelector('#df-027c6032-be27-42e0-9f59-5a2c2a217141');\n",
              "          const dataTable =\n",
              "            await google.colab.kernel.invokeFunction('convertToInteractive',\n",
              "                                                     [key], {});\n",
              "          if (!dataTable) return;\n",
              "\n",
              "          const docLinkHtml = 'Like what you see? Visit the ' +\n",
              "            '<a target=\"_blank\" href=https://colab.research.google.com/notebooks/data_table.ipynb>data table notebook</a>'\n",
              "            + ' to learn more about interactive tables.';\n",
              "          element.innerHTML = '';\n",
              "          dataTable['output_type'] = 'display_data';\n",
              "          await google.colab.output.renderOutput(dataTable, element);\n",
              "          const docLink = document.createElement('div');\n",
              "          docLink.innerHTML = docLinkHtml;\n",
              "          element.appendChild(docLink);\n",
              "        }\n",
              "      </script>\n",
              "    </div>\n",
              "  </div>\n",
              "  "
            ]
          },
          "metadata": {},
          "execution_count": 5
        }
      ],
      "source": [
        "data = data[data.sentiment != \"Neutral\"]\n",
        "data['text'] = data['text'].apply(lambda x: x.lower())\n",
        "# removing special chars\n",
        "data['text'] = data['text'].apply((lambda x: re.sub('[^a-zA-z0-9\\s]','',x)))\n",
        "#\n",
        "data.head()"
      ]
    },
    {
      "cell_type": "code",
      "execution_count": null,
      "metadata": {
        "_cell_guid": "43632d2d-6160-12ce-48b0-e5eb1c207076",
        "_uuid": "d0f8b4542106a279f7398db7285ae5e370b2e813",
        "colab": {
          "base_uri": "https://localhost:8080/",
          "height": 241
        },
        "id": "5IJ5KK8OQ4Pa",
        "outputId": "6fc3ea2d-95cb-4eb7-da89-9f7d6f0f0e4e"
      },
      "outputs": [
        {
          "output_type": "stream",
          "name": "stdout",
          "text": [
            "4472\n",
            "16986\n"
          ]
        },
        {
          "output_type": "execute_result",
          "data": {
            "text/plain": [
              "                                                text sentiment\n",
              "1   scottwalker didnt catch the full gopdebate la...  Positive\n",
              "3   robgeorge that carly fiorina is trending  hou...  Positive\n",
              "4   danscavino gopdebate w realdonaldtrump delive...  Positive\n",
              "5   gregabbott_tx tedcruz on my first day i will ...  Positive\n",
              "6   warriorwoman91 i liked her and was happy when...  Negative"
            ],
            "text/html": [
              "\n",
              "  <div id=\"df-36a83f18-3a7c-4cd9-803e-949dcfe3e3f4\">\n",
              "    <div class=\"colab-df-container\">\n",
              "      <div>\n",
              "<style scoped>\n",
              "    .dataframe tbody tr th:only-of-type {\n",
              "        vertical-align: middle;\n",
              "    }\n",
              "\n",
              "    .dataframe tbody tr th {\n",
              "        vertical-align: top;\n",
              "    }\n",
              "\n",
              "    .dataframe thead th {\n",
              "        text-align: right;\n",
              "    }\n",
              "</style>\n",
              "<table border=\"1\" class=\"dataframe\">\n",
              "  <thead>\n",
              "    <tr style=\"text-align: right;\">\n",
              "      <th></th>\n",
              "      <th>text</th>\n",
              "      <th>sentiment</th>\n",
              "    </tr>\n",
              "  </thead>\n",
              "  <tbody>\n",
              "    <tr>\n",
              "      <th>1</th>\n",
              "      <td>scottwalker didnt catch the full gopdebate la...</td>\n",
              "      <td>Positive</td>\n",
              "    </tr>\n",
              "    <tr>\n",
              "      <th>3</th>\n",
              "      <td>robgeorge that carly fiorina is trending  hou...</td>\n",
              "      <td>Positive</td>\n",
              "    </tr>\n",
              "    <tr>\n",
              "      <th>4</th>\n",
              "      <td>danscavino gopdebate w realdonaldtrump delive...</td>\n",
              "      <td>Positive</td>\n",
              "    </tr>\n",
              "    <tr>\n",
              "      <th>5</th>\n",
              "      <td>gregabbott_tx tedcruz on my first day i will ...</td>\n",
              "      <td>Positive</td>\n",
              "    </tr>\n",
              "    <tr>\n",
              "      <th>6</th>\n",
              "      <td>warriorwoman91 i liked her and was happy when...</td>\n",
              "      <td>Negative</td>\n",
              "    </tr>\n",
              "  </tbody>\n",
              "</table>\n",
              "</div>\n",
              "      <button class=\"colab-df-convert\" onclick=\"convertToInteractive('df-36a83f18-3a7c-4cd9-803e-949dcfe3e3f4')\"\n",
              "              title=\"Convert this dataframe to an interactive table.\"\n",
              "              style=\"display:none;\">\n",
              "        \n",
              "  <svg xmlns=\"http://www.w3.org/2000/svg\" height=\"24px\"viewBox=\"0 0 24 24\"\n",
              "       width=\"24px\">\n",
              "    <path d=\"M0 0h24v24H0V0z\" fill=\"none\"/>\n",
              "    <path d=\"M18.56 5.44l.94 2.06.94-2.06 2.06-.94-2.06-.94-.94-2.06-.94 2.06-2.06.94zm-11 1L8.5 8.5l.94-2.06 2.06-.94-2.06-.94L8.5 2.5l-.94 2.06-2.06.94zm10 10l.94 2.06.94-2.06 2.06-.94-2.06-.94-.94-2.06-.94 2.06-2.06.94z\"/><path d=\"M17.41 7.96l-1.37-1.37c-.4-.4-.92-.59-1.43-.59-.52 0-1.04.2-1.43.59L10.3 9.45l-7.72 7.72c-.78.78-.78 2.05 0 2.83L4 21.41c.39.39.9.59 1.41.59.51 0 1.02-.2 1.41-.59l7.78-7.78 2.81-2.81c.8-.78.8-2.07 0-2.86zM5.41 20L4 18.59l7.72-7.72 1.47 1.35L5.41 20z\"/>\n",
              "  </svg>\n",
              "      </button>\n",
              "      \n",
              "  <style>\n",
              "    .colab-df-container {\n",
              "      display:flex;\n",
              "      flex-wrap:wrap;\n",
              "      gap: 12px;\n",
              "    }\n",
              "\n",
              "    .colab-df-convert {\n",
              "      background-color: #E8F0FE;\n",
              "      border: none;\n",
              "      border-radius: 50%;\n",
              "      cursor: pointer;\n",
              "      display: none;\n",
              "      fill: #1967D2;\n",
              "      height: 32px;\n",
              "      padding: 0 0 0 0;\n",
              "      width: 32px;\n",
              "    }\n",
              "\n",
              "    .colab-df-convert:hover {\n",
              "      background-color: #E2EBFA;\n",
              "      box-shadow: 0px 1px 2px rgba(60, 64, 67, 0.3), 0px 1px 3px 1px rgba(60, 64, 67, 0.15);\n",
              "      fill: #174EA6;\n",
              "    }\n",
              "\n",
              "    [theme=dark] .colab-df-convert {\n",
              "      background-color: #3B4455;\n",
              "      fill: #D2E3FC;\n",
              "    }\n",
              "\n",
              "    [theme=dark] .colab-df-convert:hover {\n",
              "      background-color: #434B5C;\n",
              "      box-shadow: 0px 1px 3px 1px rgba(0, 0, 0, 0.15);\n",
              "      filter: drop-shadow(0px 1px 2px rgba(0, 0, 0, 0.3));\n",
              "      fill: #FFFFFF;\n",
              "    }\n",
              "  </style>\n",
              "\n",
              "      <script>\n",
              "        const buttonEl =\n",
              "          document.querySelector('#df-36a83f18-3a7c-4cd9-803e-949dcfe3e3f4 button.colab-df-convert');\n",
              "        buttonEl.style.display =\n",
              "          google.colab.kernel.accessAllowed ? 'block' : 'none';\n",
              "\n",
              "        async function convertToInteractive(key) {\n",
              "          const element = document.querySelector('#df-36a83f18-3a7c-4cd9-803e-949dcfe3e3f4');\n",
              "          const dataTable =\n",
              "            await google.colab.kernel.invokeFunction('convertToInteractive',\n",
              "                                                     [key], {});\n",
              "          if (!dataTable) return;\n",
              "\n",
              "          const docLinkHtml = 'Like what you see? Visit the ' +\n",
              "            '<a target=\"_blank\" href=https://colab.research.google.com/notebooks/data_table.ipynb>data table notebook</a>'\n",
              "            + ' to learn more about interactive tables.';\n",
              "          element.innerHTML = '';\n",
              "          dataTable['output_type'] = 'display_data';\n",
              "          await google.colab.output.renderOutput(dataTable, element);\n",
              "          const docLink = document.createElement('div');\n",
              "          docLink.innerHTML = docLinkHtml;\n",
              "          element.appendChild(docLink);\n",
              "        }\n",
              "      </script>\n",
              "    </div>\n",
              "  </div>\n",
              "  "
            ]
          },
          "metadata": {},
          "execution_count": 6
        }
      ],
      "source": [
        "print(data[ data['sentiment'] == 'Positive'].size)\n",
        "print(data[ data['sentiment'] == 'Negative'].size)\n",
        "\n",
        "for idx,row in data.iterrows():\n",
        "    row[0] = row[0].replace('rt','')\n",
        "data.head()"
      ]
    },
    {
      "cell_type": "code",
      "execution_count": null,
      "metadata": {
        "_cell_guid": "43632d2d-6160-12ce-48b0-e5eb1c207076",
        "_uuid": "d0f8b4542106a279f7398db7285ae5e370b2e813",
        "colab": {
          "base_uri": "https://localhost:8080/"
        },
        "id": "y7MhJodfQ4Pa",
        "outputId": "305d7ab1-f416-4113-9cdf-79b28a707498"
      },
      "outputs": [
        {
          "output_type": "execute_result",
          "data": {
            "text/plain": [
              "array([[   0,    0,    0,    0,    0,    0,    0,    0,    0,    0,    0,\n",
              "         359,  120,    1,  692,    2,   39,   58,  234,   37,  207,    6,\n",
              "         172, 1745,   12, 1308, 1394,  733],\n",
              "       [   0,    0,    0,    0,    0,    0,    0,    0,    0,    0,    0,\n",
              "          16,  281,  249,    5,  809,  102,  170,   26,  134,    6,    1,\n",
              "         171,   12,    2,  231,  713,   17]], dtype=int32)"
            ]
          },
          "metadata": {},
          "execution_count": 7
        }
      ],
      "source": [
        "    \n",
        "max_fatures = 2500\n",
        "tokenizer = Tokenizer(num_words=max_fatures, split=' ')\n",
        "tokenizer.fit_on_texts(data['text'].values)\n",
        "X = tokenizer.texts_to_sequences(data['text'].values)\n",
        "X = pad_sequences(X)\n",
        "X[:2]"
      ]
    },
    {
      "cell_type": "code",
      "execution_count": null,
      "metadata": {
        "_cell_guid": "1ba3cf60-a83c-9c21-05e0-b14303027e93",
        "_uuid": "05cb9ef0ec9e0a4067e3ab7c1bda7b2c1211feda",
        "scrolled": true,
        "colab": {
          "base_uri": "https://localhost:8080/"
        },
        "id": "ehT892SHQ4Pb",
        "outputId": "11ad4081-b0e3-4656-a629-01724beb0c4a"
      },
      "outputs": [
        {
          "output_type": "stream",
          "name": "stderr",
          "text": [
            "WARNING:tensorflow:Layer lstm will not use cuDNN kernels since it doesn't meet the criteria. It will use a generic GPU kernel as fallback when running on GPU.\n"
          ]
        },
        {
          "output_type": "stream",
          "name": "stdout",
          "text": [
            "Model: \"sequential\"\n",
            "_________________________________________________________________\n",
            " Layer (type)                Output Shape              Param #   \n",
            "=================================================================\n",
            " embedding (Embedding)       (None, 28, 128)           256000    \n",
            "                                                                 \n",
            " spatial_dropout1d (SpatialD  (None, 28, 128)          0         \n",
            " ropout1D)                                                       \n",
            "                                                                 \n",
            " lstm (LSTM)                 (None, 196)               254800    \n",
            "                                                                 \n",
            " dense (Dense)               (None, 2)                 394       \n",
            "                                                                 \n",
            "=================================================================\n",
            "Total params: 511,194\n",
            "Trainable params: 511,194\n",
            "Non-trainable params: 0\n",
            "_________________________________________________________________\n",
            "None\n"
          ]
        }
      ],
      "source": [
        "embed_dim = 128\n",
        "lstm_out = 196\n",
        "\n",
        "model = Sequential()\n",
        "model.add(Embedding(max_fatures, embed_dim,input_length = X.shape[1]))\n",
        "model.add(SpatialDropout1D(0.4))\n",
        "model.add(LSTM(lstm_out, dropout=0.2, recurrent_dropout=0.2))\n",
        "model.add(Dense(2,activation='softmax'))\n",
        "model.compile(loss = 'categorical_crossentropy', optimizer='adam',metrics = ['accuracy'])\n",
        "model.summary()"
      ]
    },
    {
      "cell_type": "code",
      "execution_count": null,
      "metadata": {
        "_cell_guid": "b35748b8-2353-3db2-e571-5fd22bb93eb0",
        "_uuid": "a380bbfae2d098d407b138fc44622c9913a31c07",
        "colab": {
          "base_uri": "https://localhost:8080/"
        },
        "id": "imEoRKhCQ4Pb",
        "outputId": "44be2ec4-1452-479e-e5ef-eee3d7e657c3"
      },
      "outputs": [
        {
          "output_type": "stream",
          "name": "stdout",
          "text": [
            "(8583, 28) (8583, 2)\n",
            "(2146, 28) (2146, 2)\n"
          ]
        }
      ],
      "source": [
        "Y = pd.get_dummies(data['sentiment']).values\n",
        "X_train, X_test, Y_train, Y_test = train_test_split(X,Y, test_size = 0.20, random_state = 42)\n",
        "print(X_train.shape,Y_train.shape)\n",
        "print(X_test.shape,Y_test.shape)"
      ]
    },
    {
      "cell_type": "code",
      "execution_count": null,
      "metadata": {
        "_cell_guid": "d5e499ac-2eba-6ff7-8d9a-ff65eb04099b",
        "_uuid": "d0b239912cf67294a9f5af6883bb159c44318fc7",
        "colab": {
          "base_uri": "https://localhost:8080/"
        },
        "id": "p86ZB1SEQ4Pc",
        "outputId": "c87ab548-c95b-4fe6-f235-5add3fdb1b7c"
      },
      "outputs": [
        {
          "output_type": "stream",
          "name": "stdout",
          "text": [
            "Epoch 1/15\n",
            "68/68 [==============================] - 27s 291ms/step - loss: 0.4710 - accuracy: 0.7959\n",
            "Epoch 2/15\n",
            "68/68 [==============================] - 14s 210ms/step - loss: 0.3335 - accuracy: 0.8577\n",
            "Epoch 3/15\n",
            "68/68 [==============================] - 13s 196ms/step - loss: 0.2835 - accuracy: 0.8817\n",
            "Epoch 4/15\n",
            "68/68 [==============================] - 12s 170ms/step - loss: 0.2610 - accuracy: 0.8905\n",
            "Epoch 5/15\n",
            "68/68 [==============================] - 27s 398ms/step - loss: 0.2414 - accuracy: 0.9025\n",
            "Epoch 6/15\n",
            "68/68 [==============================] - 14s 195ms/step - loss: 0.2428 - accuracy: 0.8986\n",
            "Epoch 7/15\n",
            "68/68 [==============================] - 10s 142ms/step - loss: 0.2124 - accuracy: 0.9101\n",
            "Epoch 8/15\n",
            "68/68 [==============================] - 10s 152ms/step - loss: 0.2020 - accuracy: 0.9180\n",
            "Epoch 9/15\n",
            "68/68 [==============================] - 11s 160ms/step - loss: 0.1900 - accuracy: 0.9223\n",
            "Epoch 10/15\n",
            "68/68 [==============================] - 11s 156ms/step - loss: 0.1790 - accuracy: 0.9264\n",
            "Epoch 11/15\n",
            "68/68 [==============================] - 9s 131ms/step - loss: 0.1687 - accuracy: 0.9304\n",
            "Epoch 12/15\n",
            "68/68 [==============================] - 11s 159ms/step - loss: 0.1664 - accuracy: 0.9322\n",
            "Epoch 13/15\n",
            "68/68 [==============================] - 11s 164ms/step - loss: 0.1513 - accuracy: 0.9355\n",
            "Epoch 14/15\n",
            "68/68 [==============================] - 11s 166ms/step - loss: 0.1467 - accuracy: 0.9398\n",
            "Epoch 15/15\n",
            "68/68 [==============================] - 10s 143ms/step - loss: 0.1393 - accuracy: 0.9410\n"
          ]
        },
        {
          "output_type": "execute_result",
          "data": {
            "text/plain": [
              "<keras.callbacks.History at 0x7f1e2defa820>"
            ]
          },
          "metadata": {},
          "execution_count": 10
        }
      ],
      "source": [
        "model.fit(X_train, Y_train, epochs = 15, batch_size=32, verbose = 1)"
      ]
    },
    {
      "cell_type": "code",
      "execution_count": null,
      "metadata": {
        "_uuid": "4701961e44bd243e505fc2c1b53b323311ad2b80",
        "colab": {
          "base_uri": "https://localhost:8080/"
        },
        "id": "mTjU-I-fQ4Pc",
        "outputId": "4a1c4e22-7af6-4d81-88ef-53f8d2e49b78"
      },
      "outputs": [
        {
          "output_type": "stream",
          "name": "stdout",
          "text": [
            "68/68 [==============================] - 1s 10ms/step\n"
          ]
        }
      ],
      "source": [
        "predict_x=model.predict(X_test) \n",
        "Y_pred=np.argmax(predict_x,axis=1)"
      ]
    },
    {
      "cell_type": "code",
      "execution_count": null,
      "metadata": {
        "_uuid": "13d9f618b3b74f881d68aed864a26249d26e63de",
        "colab": {
          "base_uri": "https://localhost:8080/"
        },
        "id": "Pb7XtagQQ4Pc",
        "outputId": "e28c622d-eb15-4a40-a159-bd326c232b17"
      },
      "outputs": [
        {
          "output_type": "stream",
          "name": "stdout",
          "text": [
            "confusion matrix [[1523  190]\n",
            " [ 196  237]]\n",
            "              precision    recall  f1-score   support\n",
            "\n",
            "           0       0.89      0.89      0.89      1713\n",
            "           1       0.56      0.55      0.55       433\n",
            "\n",
            "    accuracy                           0.82      2146\n",
            "   macro avg       0.72      0.72      0.72      2146\n",
            "weighted avg       0.82      0.82      0.82      2146\n",
            "\n"
          ]
        }
      ],
      "source": [
        "df_test = pd.DataFrame({'true': Y_test.tolist(), 'pred':Y_pred})\n",
        "df_test['true'] = df_test['true'].apply(lambda x: np.argmax(x))\n",
        "print(\"confusion matrix\",confusion_matrix(df_test.true, df_test.pred))\n",
        "print(classification_report(df_test.true, df_test.pred))"
      ]
    },
    {
      "cell_type": "markdown",
      "source": [
        "# Question 2 : Stock market prediction using LSTMs"
      ],
      "metadata": {
        "id": "yGriawtcTJhX"
      }
    },
    {
      "cell_type": "code",
      "source": [
        "#Importing the libraries\n",
        "import pandas as pd\n",
        "import numpy as np\n",
        "import matplotlib.pyplot as plt\n",
        "import keras"
      ],
      "metadata": {
        "id": "KtUYl7tRTIrI"
      },
      "execution_count": null,
      "outputs": []
    },
    {
      "cell_type": "code",
      "source": [
        "#Importing the data\n",
        "train= pd.read_csv('./Price_Train.csv')\n",
        "test= pd.read_csv('./Price_Test.csv')"
      ],
      "metadata": {
        "id": "PS0-VfFzZCkr"
      },
      "execution_count": null,
      "outputs": []
    },
    {
      "cell_type": "code",
      "source": [
        "#taking open price from data in 2d array , if we will do train.loc[:, 'open'].values it gives one d array which wont\n",
        "#be considered in scaling\n",
        "train_open= train.iloc[:, 1:2].values\n"
      ],
      "metadata": {
        "id": "AysqWn__aeav"
      },
      "execution_count": null,
      "outputs": []
    },
    {
      "cell_type": "code",
      "source": [
        "#Scaling the values between 0 to 1\n",
        "from sklearn.preprocessing import MinMaxScaler\n",
        "ss= MinMaxScaler(feature_range=(0,1))\n",
        "train_open_scaled= ss.fit_transform(train_open)"
      ],
      "metadata": {
        "id": "Vkzw8w73ahW9"
      },
      "execution_count": null,
      "outputs": []
    },
    {
      "cell_type": "code",
      "source": [
        "train_open_scaled[60]"
      ],
      "metadata": {
        "colab": {
          "base_uri": "https://localhost:8080/"
        },
        "id": "19iSLj6pale1",
        "outputId": "24a2077c-5ab3-4f9c-e462-985c1a834d99"
      },
      "execution_count": null,
      "outputs": [
        {
          "output_type": "execute_result",
          "data": {
            "text/plain": [
              "array([0.08627874])"
            ]
          },
          "metadata": {},
          "execution_count": 39
        }
      ]
    },
    {
      "cell_type": "code",
      "source": [
        "# Feature selection\n",
        "xtrain=[]\n",
        "ytrain=[]\n",
        "for i in range(60,len(train_open_scaled)):\n",
        "    xtrain.append(train_open_scaled[i-60:i,0])\n",
        "    ytrain.append(train_open_scaled[i,0])\n",
        "\n",
        "xtrain, ytrain = np.array(xtrain), np.array(ytrain)"
      ],
      "metadata": {
        "id": "4jmCoVcwapbp"
      },
      "execution_count": null,
      "outputs": []
    },
    {
      "cell_type": "code",
      "source": [
        "#Reshaping the train data to make it as input for LTSM layer input_shape(batchzise,timesteps,input_dim)\n",
        "xtrain= np.reshape(xtrain,(xtrain.shape[0],xtrain.shape[1],1))"
      ],
      "metadata": {
        "id": "h2kLsn2dasPH"
      },
      "execution_count": null,
      "outputs": []
    },
    {
      "cell_type": "code",
      "source": [
        "xtrain.shape"
      ],
      "metadata": {
        "colab": {
          "base_uri": "https://localhost:8080/"
        },
        "id": "-VgG4O-fauIw",
        "outputId": "0607059e-f581-4b56-b4fd-c8dd11876cc7"
      },
      "execution_count": null,
      "outputs": [
        {
          "output_type": "execute_result",
          "data": {
            "text/plain": [
              "(1198, 60, 1)"
            ]
          },
          "metadata": {},
          "execution_count": 42
        }
      ]
    },
    {
      "cell_type": "code",
      "source": [
        "from keras.models import Sequential\n",
        "from keras.layers import LSTM\n",
        "from keras.layers import Dense\n",
        "from keras.layers import Dropout"
      ],
      "metadata": {
        "id": "woR0GPJLawwa"
      },
      "execution_count": null,
      "outputs": []
    },
    {
      "cell_type": "code",
      "source": [
        "#initialisizng the model \n",
        "regression = Sequential()\n",
        "\n",
        "#First Input layer and LSTM layer with 0.2% dropout\n",
        "regression.add(LSTM(units=50,return_sequences=True,kernel_initializer='glorot_uniform',input_shape=(xtrain.shape[1],1)))\n",
        "regression.add(Dropout(0.2))\n",
        "\n",
        "# Where:\n",
        "#     return_sequences: Boolean. Whether to return the last output in the output sequence, or the full sequence.\n",
        "\n",
        "# Second LSTM layer with 0.2% dropout\n",
        "regression.add(LSTM(units=50,kernel_initializer='glorot_uniform',return_sequences=True))\n",
        "regression.add(Dropout(0.2))\n",
        "\n",
        "#Third LSTM layer with 0.2% dropout\n",
        "regression.add(LSTM(units=50,kernel_initializer='glorot_uniform',return_sequences=True))\n",
        "regression.add(Dropout(0.2))\n",
        "\n",
        "#Fourth LSTM layer with 0.2% dropout, we wont use return sequence true in last layers as we dont want to previous output\n",
        "regression.add(LSTM(units=50,kernel_initializer='glorot_uniform'))\n",
        "regression.add(Dropout(0.2))\n",
        "#Output layer , we wont pass any activation as its continous value model\n",
        "regression.add(Dense(units=1))\n",
        "\n",
        "#Compiling the network\n",
        "regression.compile(optimizer='adam',loss='mean_squared_error')\n",
        "\n",
        "\n",
        "#fitting the network\n",
        "regression.fit(xtrain,ytrain,batch_size=30,epochs=100)"
      ],
      "metadata": {
        "colab": {
          "base_uri": "https://localhost:8080/"
        },
        "id": "PU0nQhhWaybt",
        "outputId": "bbc5b67f-5f3b-4451-8d20-af3aa1564b76"
      },
      "execution_count": null,
      "outputs": [
        {
          "output_type": "stream",
          "name": "stdout",
          "text": [
            "Epoch 1/100\n",
            "40/40 [==============================] - 10s 21ms/step - loss: 0.0333\n",
            "Epoch 2/100\n",
            "40/40 [==============================] - 1s 22ms/step - loss: 0.0062\n",
            "Epoch 3/100\n",
            "40/40 [==============================] - 1s 22ms/step - loss: 0.0070\n",
            "Epoch 4/100\n",
            "40/40 [==============================] - 1s 14ms/step - loss: 0.0057\n",
            "Epoch 5/100\n",
            "40/40 [==============================] - 1s 23ms/step - loss: 0.0056\n",
            "Epoch 6/100\n",
            "40/40 [==============================] - 1s 21ms/step - loss: 0.0050\n",
            "Epoch 7/100\n",
            "40/40 [==============================] - 1s 14ms/step - loss: 0.0049\n",
            "Epoch 8/100\n",
            "40/40 [==============================] - 1s 15ms/step - loss: 0.0049\n",
            "Epoch 9/100\n",
            "40/40 [==============================] - 1s 13ms/step - loss: 0.0051\n",
            "Epoch 10/100\n",
            "40/40 [==============================] - 1s 16ms/step - loss: 0.0040\n",
            "Epoch 11/100\n",
            "40/40 [==============================] - 1s 16ms/step - loss: 0.0039\n",
            "Epoch 12/100\n",
            "40/40 [==============================] - 1s 16ms/step - loss: 0.0041\n",
            "Epoch 13/100\n",
            "40/40 [==============================] - 1s 14ms/step - loss: 0.0040\n",
            "Epoch 14/100\n",
            "40/40 [==============================] - 1s 15ms/step - loss: 0.0037\n",
            "Epoch 15/100\n",
            "40/40 [==============================] - 1s 15ms/step - loss: 0.0037\n",
            "Epoch 16/100\n",
            "40/40 [==============================] - 1s 22ms/step - loss: 0.0037\n",
            "Epoch 17/100\n",
            "40/40 [==============================] - 1s 20ms/step - loss: 0.0038\n",
            "Epoch 18/100\n",
            "40/40 [==============================] - 1s 20ms/step - loss: 0.0037\n",
            "Epoch 19/100\n",
            "40/40 [==============================] - 1s 20ms/step - loss: 0.0033\n",
            "Epoch 20/100\n",
            "40/40 [==============================] - 1s 18ms/step - loss: 0.0041\n",
            "Epoch 21/100\n",
            "40/40 [==============================] - 1s 14ms/step - loss: 0.0034\n",
            "Epoch 22/100\n",
            "40/40 [==============================] - 1s 15ms/step - loss: 0.0034\n",
            "Epoch 23/100\n",
            "40/40 [==============================] - 1s 14ms/step - loss: 0.0032\n",
            "Epoch 24/100\n",
            "40/40 [==============================] - 1s 14ms/step - loss: 0.0032\n",
            "Epoch 25/100\n",
            "40/40 [==============================] - 1s 15ms/step - loss: 0.0031\n",
            "Epoch 26/100\n",
            "40/40 [==============================] - 1s 22ms/step - loss: 0.0032\n",
            "Epoch 27/100\n",
            "40/40 [==============================] - 1s 17ms/step - loss: 0.0030\n",
            "Epoch 28/100\n",
            "40/40 [==============================] - 1s 15ms/step - loss: 0.0030\n",
            "Epoch 29/100\n",
            "40/40 [==============================] - 1s 17ms/step - loss: 0.0036\n",
            "Epoch 30/100\n",
            "40/40 [==============================] - 1s 23ms/step - loss: 0.0027\n",
            "Epoch 31/100\n",
            "40/40 [==============================] - 1s 16ms/step - loss: 0.0028\n",
            "Epoch 32/100\n",
            "40/40 [==============================] - 1s 14ms/step - loss: 0.0028\n",
            "Epoch 33/100\n",
            "40/40 [==============================] - 1s 15ms/step - loss: 0.0029\n",
            "Epoch 34/100\n",
            "40/40 [==============================] - 1s 14ms/step - loss: 0.0024\n",
            "Epoch 35/100\n",
            "40/40 [==============================] - 1s 16ms/step - loss: 0.0026\n",
            "Epoch 36/100\n",
            "40/40 [==============================] - 1s 24ms/step - loss: 0.0028\n",
            "Epoch 37/100\n",
            "40/40 [==============================] - 1s 29ms/step - loss: 0.0025\n",
            "Epoch 38/100\n",
            "40/40 [==============================] - 1s 29ms/step - loss: 0.0027\n",
            "Epoch 39/100\n",
            "40/40 [==============================] - 1s 25ms/step - loss: 0.0033\n",
            "Epoch 40/100\n",
            "40/40 [==============================] - 1s 15ms/step - loss: 0.0025\n",
            "Epoch 41/100\n",
            "40/40 [==============================] - 1s 17ms/step - loss: 0.0027\n",
            "Epoch 42/100\n",
            "40/40 [==============================] - 1s 22ms/step - loss: 0.0026\n",
            "Epoch 43/100\n",
            "40/40 [==============================] - 1s 17ms/step - loss: 0.0027\n",
            "Epoch 44/100\n",
            "40/40 [==============================] - 1s 13ms/step - loss: 0.0023\n",
            "Epoch 45/100\n",
            "40/40 [==============================] - 1s 15ms/step - loss: 0.0022\n",
            "Epoch 46/100\n",
            "40/40 [==============================] - 1s 14ms/step - loss: 0.0022\n",
            "Epoch 47/100\n",
            "40/40 [==============================] - 1s 15ms/step - loss: 0.0024\n",
            "Epoch 48/100\n",
            "40/40 [==============================] - 1s 20ms/step - loss: 0.0022\n",
            "Epoch 49/100\n",
            "40/40 [==============================] - 1s 22ms/step - loss: 0.0022\n",
            "Epoch 50/100\n",
            "40/40 [==============================] - 1s 16ms/step - loss: 0.0022\n",
            "Epoch 51/100\n",
            "40/40 [==============================] - 1s 15ms/step - loss: 0.0022\n",
            "Epoch 52/100\n",
            "40/40 [==============================] - 1s 15ms/step - loss: 0.0022\n",
            "Epoch 53/100\n",
            "40/40 [==============================] - 1s 15ms/step - loss: 0.0025\n",
            "Epoch 54/100\n",
            "40/40 [==============================] - 1s 18ms/step - loss: 0.0022\n",
            "Epoch 55/100\n",
            "40/40 [==============================] - 1s 30ms/step - loss: 0.0023\n",
            "Epoch 56/100\n",
            "40/40 [==============================] - 1s 28ms/step - loss: 0.0020\n",
            "Epoch 57/100\n",
            "40/40 [==============================] - 1s 35ms/step - loss: 0.0021\n",
            "Epoch 58/100\n",
            "40/40 [==============================] - 1s 28ms/step - loss: 0.0020\n",
            "Epoch 59/100\n",
            "40/40 [==============================] - 1s 17ms/step - loss: 0.0022\n",
            "Epoch 60/100\n",
            "40/40 [==============================] - 1s 15ms/step - loss: 0.0020\n",
            "Epoch 61/100\n",
            "40/40 [==============================] - 1s 14ms/step - loss: 0.0019\n",
            "Epoch 62/100\n",
            "40/40 [==============================] - 1s 14ms/step - loss: 0.0020\n",
            "Epoch 63/100\n",
            "40/40 [==============================] - 1s 14ms/step - loss: 0.0021\n",
            "Epoch 64/100\n",
            "40/40 [==============================] - 1s 15ms/step - loss: 0.0020\n",
            "Epoch 65/100\n",
            "40/40 [==============================] - 1s 14ms/step - loss: 0.0020\n",
            "Epoch 66/100\n",
            "40/40 [==============================] - 1s 23ms/step - loss: 0.0020\n",
            "Epoch 67/100\n",
            "40/40 [==============================] - 1s 32ms/step - loss: 0.0019\n",
            "Epoch 68/100\n",
            "40/40 [==============================] - 1s 26ms/step - loss: 0.0019\n",
            "Epoch 69/100\n",
            "40/40 [==============================] - 1s 25ms/step - loss: 0.0017\n",
            "Epoch 70/100\n",
            "40/40 [==============================] - 1s 18ms/step - loss: 0.0018\n",
            "Epoch 71/100\n",
            "40/40 [==============================] - 1s 29ms/step - loss: 0.0017\n",
            "Epoch 72/100\n",
            "40/40 [==============================] - 1s 29ms/step - loss: 0.0017\n",
            "Epoch 73/100\n",
            "40/40 [==============================] - 1s 26ms/step - loss: 0.0017\n",
            "Epoch 74/100\n",
            "40/40 [==============================] - 1s 20ms/step - loss: 0.0017\n",
            "Epoch 75/100\n",
            "40/40 [==============================] - 1s 14ms/step - loss: 0.0017\n",
            "Epoch 76/100\n",
            "40/40 [==============================] - 1s 15ms/step - loss: 0.0015\n",
            "Epoch 77/100\n",
            "40/40 [==============================] - 1s 13ms/step - loss: 0.0017\n",
            "Epoch 78/100\n",
            "40/40 [==============================] - 1s 21ms/step - loss: 0.0018\n",
            "Epoch 79/100\n",
            "40/40 [==============================] - 1s 19ms/step - loss: 0.0016\n",
            "Epoch 80/100\n",
            "40/40 [==============================] - 1s 22ms/step - loss: 0.0016\n",
            "Epoch 81/100\n",
            "40/40 [==============================] - 1s 17ms/step - loss: 0.0013\n",
            "Epoch 82/100\n",
            "40/40 [==============================] - 1s 15ms/step - loss: 0.0015\n",
            "Epoch 83/100\n",
            "40/40 [==============================] - 1s 14ms/step - loss: 0.0019\n",
            "Epoch 84/100\n",
            "40/40 [==============================] - 1s 14ms/step - loss: 0.0019\n",
            "Epoch 85/100\n",
            "40/40 [==============================] - 1s 14ms/step - loss: 0.0015\n",
            "Epoch 86/100\n",
            "40/40 [==============================] - 1s 14ms/step - loss: 0.0016\n",
            "Epoch 87/100\n",
            "40/40 [==============================] - 1s 14ms/step - loss: 0.0018\n",
            "Epoch 88/100\n",
            "40/40 [==============================] - 1s 14ms/step - loss: 0.0015\n",
            "Epoch 89/100\n",
            "40/40 [==============================] - 1s 16ms/step - loss: 0.0016\n",
            "Epoch 90/100\n",
            "40/40 [==============================] - 2s 38ms/step - loss: 0.0014\n",
            "Epoch 91/100\n",
            "40/40 [==============================] - 2s 47ms/step - loss: 0.0014\n",
            "Epoch 92/100\n",
            "40/40 [==============================] - 2s 40ms/step - loss: 0.0015\n",
            "Epoch 93/100\n",
            "40/40 [==============================] - 1s 19ms/step - loss: 0.0015\n",
            "Epoch 94/100\n",
            "40/40 [==============================] - 1s 22ms/step - loss: 0.0016\n",
            "Epoch 95/100\n",
            "40/40 [==============================] - 1s 18ms/step - loss: 0.0014\n",
            "Epoch 96/100\n",
            "40/40 [==============================] - 1s 17ms/step - loss: 0.0014\n",
            "Epoch 97/100\n",
            "40/40 [==============================] - 1s 21ms/step - loss: 0.0014\n",
            "Epoch 98/100\n",
            "40/40 [==============================] - 1s 22ms/step - loss: 0.0013\n",
            "Epoch 99/100\n",
            "40/40 [==============================] - 1s 24ms/step - loss: 0.0014\n",
            "Epoch 100/100\n",
            "40/40 [==============================] - 1s 25ms/step - loss: 0.0014\n"
          ]
        },
        {
          "output_type": "execute_result",
          "data": {
            "text/plain": [
              "<keras.callbacks.History at 0x7f1d904eae20>"
            ]
          },
          "metadata": {},
          "execution_count": 44
        }
      ]
    },
    {
      "cell_type": "code",
      "source": [
        "test_open= test.iloc[:, 1:2].values #taking  open price\n",
        "total= pd.concat([train['Open'],test['Open']],axis=0) # Concating train and test and then will take last 60 train point\n",
        "test_input = total[len(total)-len(test)-60:].values\n",
        "test_input= test_input.reshape(-1,1) # reshaping it to get it transformed\n",
        "test_input= ss.transform(test_input)"
      ],
      "metadata": {
        "id": "42F4j_Iya9QT"
      },
      "execution_count": null,
      "outputs": []
    },
    {
      "cell_type": "code",
      "source": [
        "xtest= []\n",
        "for i in range(60,80):\n",
        "    xtest.append(test_input[i-60:i,0]) #creating input for lstm prediction"
      ],
      "metadata": {
        "id": "Y_zsI9Aoa-pn"
      },
      "execution_count": null,
      "outputs": []
    },
    {
      "cell_type": "code",
      "source": [
        "xtest= np.array(xtest)\n",
        "xtest= np.reshape(xtest,(xtest.shape[0],xtest.shape[1],1))\n",
        "predicted_value= regression.predict(xtest)\n",
        "predicted_value= ss.inverse_transform(predicted_value)"
      ],
      "metadata": {
        "colab": {
          "base_uri": "https://localhost:8080/"
        },
        "id": "kCzXuxvrbARQ",
        "outputId": "7258d92b-076b-4bef-fb84-3f336ed2e52b"
      },
      "execution_count": null,
      "outputs": [
        {
          "output_type": "stream",
          "name": "stdout",
          "text": [
            "1/1 [==============================] - 1s 1s/step\n"
          ]
        }
      ]
    },
    {
      "cell_type": "code",
      "source": [
        "plt.figure(figsize=(20,10))\n",
        "plt.plot(test_open,'red',label='Real Prices')\n",
        "plt.plot(predicted_value,'blue',label='Predicted Prices')\n",
        "plt.xlabel('Time')\n",
        "plt.ylabel('Prices')\n",
        "plt.title('Real vs Predicted Prices')\n",
        "plt.legend(loc='best', fontsize=20)\n"
      ],
      "metadata": {
        "colab": {
          "base_uri": "https://localhost:8080/",
          "height": 638
        },
        "id": "1qsxNw-rbG5W",
        "outputId": "546e0e47-3dde-48cb-81d1-82732c47a30c"
      },
      "execution_count": null,
      "outputs": [
        {
          "output_type": "execute_result",
          "data": {
            "text/plain": [
              "<matplotlib.legend.Legend at 0x7f1d96d14e20>"
            ]
          },
          "metadata": {},
          "execution_count": 48
        },
        {
          "output_type": "display_data",
          "data": {
            "text/plain": [
              "<Figure size 1440x720 with 1 Axes>"
            ],
            "image/png": "[encoded data removed]"
          },
          "metadata": {
            "needs_background": "light"
          }
        }
      ]
    }
  ],
  "metadata": {
    "_change_revision": 0,
    "_is_fork": false,
    "kernelspec": {
      "display_name": "Python 3",
      "language": "python",
      "name": "python3"
    },
    "language_info": {
      "codemirror_mode": {
        "name": "ipython",
        "version": 3
      },
      "file_extension": ".py",
      "mimetype": "text/x-python",
      "name": "python",
      "nbconvert_exporter": "python",
      "pygments_lexer": "ipython3",
      "version": "3.6.6"
    },
    "colab": {
      "provenance": []
    },
    "accelerator": "GPU",
    "gpuClass": "standard"
  },
  "nbformat": 4,
  "nbformat_minor": 0
}