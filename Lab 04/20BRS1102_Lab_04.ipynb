{
  "cells": [
    {
      "cell_type": "markdown",
      "metadata": {
        "id": "N4WNboQak53V"
      },
      "source": [
        "**Name: A Rahul**  \n",
        "**Reg No: 20BRS1102**"
      ]
    },
    {
      "cell_type": "code",
      "execution_count": 1,
      "metadata": {
        "colab": {
          "base_uri": "https://localhost:8080/"
        },
        "id": "Fi8Q14xiUs_K",
        "outputId": "6f0a5b29-617b-4de3-dc90-b7bcaafd3684"
      },
      "outputs": [
        {
          "name": "stdout",
          "output_type": "stream",
          "text": [
            "Mounted at /content/drive\n"
          ]
        }
      ],
      "source": [
        "from google.colab import drive\n",
        "drive.mount('/content/drive')"
      ]
    },
    {
      "cell_type": "code",
      "execution_count": 2,
      "metadata": {
        "colab": {
          "base_uri": "https://localhost:8080/"
        },
        "id": "Ses657yMU4oR",
        "outputId": "10b5af27-d919-4d99-dafa-a1e669c5b727"
      },
      "outputs": [
        {
          "name": "stdout",
          "output_type": "stream",
          "text": [
            "/content/drive/MyDrive/20BRS1102 Deep Learning Lab/Lab 04 - 05 01 23\n"
          ]
        }
      ],
      "source": [
        "cd /content/drive/MyDrive/20BRS1102 Deep Learning Lab/Lab 04 - 05 01 23"
      ]
    },
    {
      "cell_type": "markdown",
      "metadata": {
        "id": "K9xRlmZCl35q"
      },
      "source": [
        "# **Network.py**"
      ]
    },
    {
      "cell_type": "code",
      "execution_count": 3,
      "metadata": {
        "id": "U9qb-9ID28Rn"
      },
      "outputs": [],
      "source": [
        "# %load mnist_loader.py\n",
        "\"\"\"\n",
        "mnist_loader\n",
        "~~~~~~~~~~~~\n",
        "A library to load the MNIST image data.  For details of the data\n",
        "structures that are returned, see the doc strings for ``load_data``\n",
        "and ``load_data_wrapper``.  In practice, ``load_data_wrapper`` is the\n",
        "function usually called by our neural network code.\n",
        "\"\"\"\n",
        "\n",
        "#### Libraries\n",
        "# Standard library\n",
        "import pickle\n",
        "import gzip\n",
        "\n",
        "# Third-party libraries\n",
        "import numpy as np\n",
        "\n",
        "def load_data():\n",
        "    \"\"\"Return the MNIST data as a tuple containing the training data,\n",
        "    the validation data, and the test data.\n",
        "    The ``training_data`` is returned as a tuple with two entries.\n",
        "    The first entry contains the actual training images.  This is a\n",
        "    numpy ndarray with 50,000 entries.  Each entry is, in turn, a\n",
        "    numpy ndarray with 784 values, representing the 28 * 28 = 784\n",
        "    pixels in a single MNIST image.\n",
        "    The second entry in the ``training_data`` tuple is a numpy ndarray\n",
        "    containing 50,000 entries.  Those entries are just the digit\n",
        "    values (0...9) for the corresponding images contained in the first\n",
        "    entry of the tuple.\n",
        "    The ``validation_data`` and ``test_data`` are similar, except\n",
        "    each contains only 10,000 images.\n",
        "    This is a nice data format, but for use in neural networks it's\n",
        "    helpful to modify the format of the ``training_data`` a little.\n",
        "    That's done in the wrapper function ``load_data_wrapper()``, see\n",
        "    below.\n",
        "    \"\"\"\n",
        "    f = gzip.open('mnist.pkl.gz', 'rb')\n",
        "    training_data, validation_data, test_data = pickle.load(f, encoding=\"latin1\")\n",
        "    f.close()\n",
        "    return (training_data, validation_data, test_data)\n",
        "\n",
        "def load_data_wrapper():\n",
        "    \"\"\"Return a tuple containing ``(training_data, validation_data,\n",
        "    test_data)``. Based on ``load_data``, but the format is more\n",
        "    convenient for use in our implementation of neural networks.\n",
        "    In particular, ``training_data`` is a list containing 50,000\n",
        "    2-tuples ``(x, y)``.  ``x`` is a 784-dimensional numpy.ndarray\n",
        "    containing the input image.  ``y`` is a 10-dimensional\n",
        "    numpy.ndarray representing the unit vector corresponding to the\n",
        "    correct digit for ``x``.\n",
        "    ``validation_data`` and ``test_data`` are lists containing 10,000\n",
        "    2-tuples ``(x, y)``.  In each case, ``x`` is a 784-dimensional\n",
        "    numpy.ndarry containing the input image, and ``y`` is the\n",
        "    corresponding classification, i.e., the digit values (integers)\n",
        "    corresponding to ``x``.\n",
        "    Obviously, this means we're using slightly different formats for\n",
        "    the training data and the validation / test data.  These formats\n",
        "    turn out to be the most convenient for use in our neural network\n",
        "    code.\"\"\"\n",
        "    tr_d, va_d, te_d = load_data()\n",
        "    training_inputs = [np.reshape(x, (784, 1)) for x in tr_d[0]]\n",
        "    training_results = [vectorized_result(y) for y in tr_d[1]]\n",
        "    training_data = zip(training_inputs, training_results)\n",
        "    validation_inputs = [np.reshape(x, (784, 1)) for x in va_d[0]]\n",
        "    validation_data = zip(validation_inputs, va_d[1])\n",
        "    test_inputs = [np.reshape(x, (784, 1)) for x in te_d[0]]\n",
        "    test_data = zip(test_inputs, te_d[1])\n",
        "    return (training_data, validation_data, test_data)\n",
        "\n",
        "def vectorized_result(j):\n",
        "    \"\"\"Return a 10-dimensional unit vector with a 1.0 in the jth\n",
        "    position and zeroes elsewhere.  This is used to convert a digit\n",
        "    (0...9) into a corresponding desired output from the neural\n",
        "    network.\"\"\"\n",
        "    e = np.zeros((10, 1))\n",
        "    e[j] = 1.0\n",
        "    return e"
      ]
    },
    {
      "cell_type": "code",
      "execution_count": 4,
      "metadata": {
        "id": "tUfP9nPv3Feg"
      },
      "outputs": [],
      "source": [
        "training_data, validation_data, test_data = load_data_wrapper()\n",
        "training_data = list(training_data)\n",
        "validation_data = list(validation_data)\n",
        "test_data = list(test_data)"
      ]
    },
    {
      "cell_type": "code",
      "execution_count": 5,
      "metadata": {
        "id": "OPV1zxexmNtY"
      },
      "outputs": [],
      "source": [
        "def sigmoid(z):\n",
        "    \"\"\"The sigmoid function.\"\"\"\n",
        "    return 1.0/(1.0+np.exp(-z))\n",
        "\n",
        "def sigmoid_prime(z):\n",
        "    \"\"\"Derivative of the sigmoid function.\"\"\"\n",
        "    return sigmoid(z)*(1-sigmoid(z))"
      ]
    },
    {
      "cell_type": "code",
      "execution_count": 6,
      "metadata": {
        "id": "XWRFep_Xl-gq"
      },
      "outputs": [],
      "source": [
        "# %load network.py\n",
        "\n",
        "\"\"\"\n",
        "network.py\n",
        "~~~~~~~~~~\n",
        "A module to implement the stochastic gradient descent learning\n",
        "algorithm for a feedforward neural network.  Gradients are calculated\n",
        "using backpropagation.  \n",
        "\"\"\"\n",
        "\n",
        "#### Libraries\n",
        "# Standard library\n",
        "import random\n",
        "\n",
        "# Third-party libraries\n",
        "import numpy as np\n",
        "\n",
        "class Network(object):\n",
        "\n",
        "    def __init__(self, sizes):\n",
        "        \"\"\"The list ``sizes`` contains the number of neurons in the\n",
        "        respective layers of the network.  For example, if the list\n",
        "        was [2, 3, 1] then it would be a three-layer network, with the\n",
        "        first layer containing 2 neurons, the second layer 3 neurons,\n",
        "        and the third layer 1 neuron.  The biases and weights for the\n",
        "        network are initialized randomly, using a Gaussian\n",
        "        distribution with mean 0, and variance 1.  Note that the first\n",
        "        layer is assumed to be an input layer, and by convention we\n",
        "        won't set any biases for those neurons, since biases are only\n",
        "        ever used in computing the outputs from later layers.\"\"\"\n",
        "        self.num_layers = len(sizes)\n",
        "        self.sizes = sizes\n",
        "        self.biases = [np.random.randn(y, 1) for y in sizes[1:]]\n",
        "        self.weights = [np.random.randn(y, x)\n",
        "                        for x, y in zip(sizes[:-1], sizes[1:])]\n",
        "\n",
        "    def feedforward(self, a):\n",
        "        \"\"\"Return the output of the network if ``a`` is input.\"\"\"\n",
        "        for b, w in zip(self.biases, self.weights):\n",
        "            a = sigmoid(np.dot(w, a)+b)\n",
        "        return a\n",
        "\n",
        "    def SGD(self, training_data, epochs, mini_batch_size, eta,\n",
        "            test_data=None):\n",
        "        \"\"\"Train the neural network using mini-batch stochastic\n",
        "        gradient descent.  The ``training_data`` is a list of tuples\n",
        "        ``(x, y)`` representing the training inputs and the desired\n",
        "        outputs.  The other non-optional parameters are\n",
        "        self-explanatory.  If ``test_data`` is provided then the\n",
        "        network will be evaluated against the test data after each\n",
        "        epoch, and partial progress printed out.  This is useful for\n",
        "        tracking progress, but slows things down substantially.\"\"\"\n",
        "\n",
        "        training_data = list(training_data)\n",
        "        n = len(training_data)\n",
        "\n",
        "        if test_data:\n",
        "            test_data = list(test_data)\n",
        "            n_test = len(test_data)\n",
        "\n",
        "        for j in range(epochs):\n",
        "            random.shuffle(training_data)\n",
        "            mini_batches = [\n",
        "                training_data[k:k+mini_batch_size]\n",
        "                for k in range(0, n, mini_batch_size)]\n",
        "            for mini_batch in mini_batches:\n",
        "                self.update_mini_batch(mini_batch, eta)\n",
        "            if test_data:\n",
        "                print(\"Epoch {} : {} / {}\".format(j,self.evaluate(test_data),n_test))\n",
        "            else:\n",
        "                print(\"Epoch {} complete\".format(j))\n",
        "\n",
        "    def update_mini_batch(self, mini_batch, eta):\n",
        "        \"\"\"Update the network's weights and biases by applying\n",
        "        gradient descent using backpropagation to a single mini batch.\n",
        "        The ``mini_batch`` is a list of tuples ``(x, y)``, and ``eta``\n",
        "        is the learning rate.\"\"\"\n",
        "        nabla_b = [np.zeros(b.shape) for b in self.biases]\n",
        "        nabla_w = [np.zeros(w.shape) for w in self.weights]\n",
        "        for x, y in mini_batch:\n",
        "            delta_nabla_b, delta_nabla_w = self.backprop(x, y)\n",
        "            nabla_b = [nb+dnb for nb, dnb in zip(nabla_b, delta_nabla_b)]\n",
        "            nabla_w = [nw+dnw for nw, dnw in zip(nabla_w, delta_nabla_w)]\n",
        "        self.weights = [w-(eta/len(mini_batch))*nw\n",
        "                        for w, nw in zip(self.weights, nabla_w)]\n",
        "        self.biases = [b-(eta/len(mini_batch))*nb\n",
        "                       for b, nb in zip(self.biases, nabla_b)]\n",
        "\n",
        "    def backprop(self, x, y):\n",
        "        \"\"\"Return a tuple ``(nabla_b, nabla_w)`` representing the\n",
        "        gradient for the cost function C_x.  ``nabla_b`` and\n",
        "        ``nabla_w`` are layer-by-layer lists of numpy arrays, similar\n",
        "        to ``self.biases`` and ``self.weights``.\"\"\"\n",
        "        nabla_b = [np.zeros(b.shape) for b in self.biases]\n",
        "        nabla_w = [np.zeros(w.shape) for w in self.weights]\n",
        "        # feedforward\n",
        "        activation = x\n",
        "        activations = [x] # list to store all the activations, layer by layer\n",
        "        zs = [] # list to store all the z vectors, layer by layer\n",
        "        for b, w in zip(self.biases, self.weights):\n",
        "            z = np.dot(w, activation)+b\n",
        "            zs.append(z)\n",
        "            activation = sigmoid(z)\n",
        "            activations.append(activation)\n",
        "        # backward pass\n",
        "        delta = self.cost_derivative(activations[-1], y) * \\\n",
        "            sigmoid_prime(zs[-1])\n",
        "        nabla_b[-1] = delta\n",
        "        nabla_w[-1] = np.dot(delta, activations[-2].transpose())\n",
        "        # Note that the variable l in the loop below is used a little\n",
        "        # differently to the notation in Chapter 2 of the book.  Here,\n",
        "        # l = 1 means the last layer of neurons, l = 2 is the\n",
        "        # second-last layer, and so on.  It's a renumbering of the\n",
        "        # scheme in the book, used here to take advantage of the fact\n",
        "        # that Python can use negative indices in lists.\n",
        "        for l in range(2, self.num_layers):\n",
        "            z = zs[-l]\n",
        "            sp = sigmoid_prime(z)\n",
        "            delta = np.dot(self.weights[-l+1].transpose(), delta) * sp\n",
        "            nabla_b[-l] = delta\n",
        "            nabla_w[-l] = np.dot(delta, activations[-l-1].transpose())\n",
        "        return (nabla_b, nabla_w)\n",
        "\n",
        "    def evaluate(self, test_data):\n",
        "        \"\"\"Return the number of test inputs for which the neural\n",
        "        network outputs the correct result. Note that the neural\n",
        "        network's output is assumed to be the index of whichever\n",
        "        neuron in the final layer has the highest activation.\"\"\"\n",
        "        test_results = [(np.argmax(self.feedforward(x)), y)\n",
        "                        for (x, y) in test_data]\n",
        "        return sum(int(x == y) for (x, y) in test_results)\n",
        "\n",
        "    def cost_derivative(self, output_activations, y):\n",
        "        \"\"\"Return the vector of partial derivatives \\partial C_x /\n",
        "        \\partial a for the output activations.\"\"\"\n",
        "        return (output_activations-y)\n",
        "\n",
        "#### Miscellaneous functions\n",
        "def sigmoid(z):\n",
        "    \"\"\"The sigmoid function.\"\"\"\n",
        "    return 1.0/(1.0+np.exp(-z))\n",
        "\n",
        "def sigmoid_prime(z):\n",
        "    \"\"\"Derivative of the sigmoid function.\"\"\"\n",
        "    return sigmoid(z)*(1-sigmoid(z))\n",
        "\n",
        "def leaky_relu(self, x, alpha = 0.01):\n",
        "    return np.where(x > 0, x, alpha*x)"
      ]
    },
    {
      "cell_type": "code",
      "execution_count": 7,
      "metadata": {
        "id": "1eBLLDVSBtmR"
      },
      "outputs": [],
      "source": [
        "\n",
        "net = Network([784, 20, 10])"
      ]
    },
    {
      "cell_type": "code",
      "execution_count": 8,
      "metadata": {
        "colab": {
          "base_uri": "https://localhost:8080/"
        },
        "id": "JaQEZOUpFPMk",
        "outputId": "7d73748f-1091-4a6e-ac5d-92ab157004f2"
      },
      "outputs": [
        {
          "name": "stdout",
          "output_type": "stream",
          "text": [
            "Epoch 0 : 9028 / 10000\n",
            "Epoch 1 : 9142 / 10000\n",
            "Epoch 2 : 9224 / 10000\n",
            "Epoch 3 : 9285 / 10000\n",
            "Epoch 4 : 9315 / 10000\n",
            "Epoch 5 : 9283 / 10000\n",
            "Epoch 6 : 9336 / 10000\n",
            "Epoch 7 : 9351 / 10000\n",
            "Epoch 8 : 9366 / 10000\n",
            "Epoch 9 : 9363 / 10000\n"
          ]
        }
      ],
      "source": [
        "net.SGD(training_data, 10, 10, 3.0, test_data=test_data)"
      ]
    },
    {
      "cell_type": "code",
      "execution_count": 9,
      "metadata": {
        "colab": {
          "base_uri": "https://localhost:8080/"
        },
        "id": "FXvpDR--sZWs",
        "outputId": "78a35d76-597f-4032-902b-670743d4cd5c"
      },
      "outputs": [
        {
          "data": {
            "text/plain": [
              "9363"
            ]
          },
          "execution_count": 9,
          "metadata": {},
          "output_type": "execute_result"
        }
      ],
      "source": [
        "net.evaluate(test_data)"
      ]
    },
    {
      "cell_type": "markdown",
      "metadata": {
        "id": "BfRr_uuyLN0V"
      },
      "source": [
        "# **Change the learning rate and find its impact on the accuracy**"
      ]
    },
    {
      "cell_type": "markdown",
      "metadata": {
        "id": "J_DqBZ41LVJQ"
      },
      "source": [
        "1) Small learning rate"
      ]
    },
    {
      "cell_type": "code",
      "execution_count": 10,
      "metadata": {
        "id": "FafTGXBkL8hL"
      },
      "outputs": [],
      "source": [
        "net = Network([784, 20, 10])"
      ]
    },
    {
      "cell_type": "code",
      "execution_count": 11,
      "metadata": {
        "colab": {
          "base_uri": "https://localhost:8080/"
        },
        "id": "qzlnnHonLaEG",
        "outputId": "2b7ab155-53ad-4519-c029-e12d4189fb44"
      },
      "outputs": [
        {
          "name": "stdout",
          "output_type": "stream",
          "text": [
            "Epoch 0 : 1820 / 10000\n",
            "Epoch 1 : 2310 / 10000\n",
            "Epoch 2 : 2820 / 10000\n",
            "Epoch 3 : 3274 / 10000\n",
            "Epoch 4 : 4114 / 10000\n",
            "Epoch 5 : 4702 / 10000\n",
            "Epoch 6 : 5082 / 10000\n",
            "Epoch 7 : 5387 / 10000\n",
            "Epoch 8 : 5670 / 10000\n",
            "Epoch 9 : 5877 / 10000\n"
          ]
        }
      ],
      "source": [
        "net.SGD(training_data, 10, 10, 0.01, test_data=test_data)"
      ]
    },
    {
      "cell_type": "markdown",
      "metadata": {
        "id": "Pg1tT0YbP_M-"
      },
      "source": [
        "Thus, on reducing the learning rate the learning happens slowly but the convergence is steady. The model did not start diverging in any of the epochs. As the convergence to the minimum point is happening slowly, the network must be trained for large number of epochs. "
      ]
    },
    {
      "cell_type": "markdown",
      "metadata": {
        "id": "TRDDu2s8MrBJ"
      },
      "source": [
        "2) Large learning rate"
      ]
    },
    {
      "cell_type": "code",
      "execution_count": 12,
      "metadata": {
        "id": "EkOY0p76MtYi"
      },
      "outputs": [],
      "source": [
        "net = Network([784, 20, 10])"
      ]
    },
    {
      "cell_type": "code",
      "execution_count": 13,
      "metadata": {
        "colab": {
          "base_uri": "https://localhost:8080/"
        },
        "id": "hgEK-GrPMvQA",
        "outputId": "75dc66c5-94e3-4b83-a63a-5b05a2ffc1f9"
      },
      "outputs": [
        {
          "name": "stdout",
          "output_type": "stream",
          "text": [
            "Epoch 0 : 9061 / 10000\n",
            "Epoch 1 : 9130 / 10000\n",
            "Epoch 2 : 9059 / 10000\n",
            "Epoch 3 : 9230 / 10000\n",
            "Epoch 4 : 9128 / 10000\n",
            "Epoch 5 : 9271 / 10000\n",
            "Epoch 6 : 9234 / 10000\n",
            "Epoch 7 : 9246 / 10000\n",
            "Epoch 8 : 9301 / 10000\n",
            "Epoch 9 : 9229 / 10000\n"
          ]
        }
      ],
      "source": [
        "net.SGD(training_data, 10, 10, 10, test_data=test_data)"
      ]
    },
    {
      "cell_type": "markdown",
      "metadata": {
        "id": "uMQMetd1QJNj"
      },
      "source": [
        "Thus, on increasing the learning rate, the learning happens at a faster pace initially, and then after a point it hits a plateau because of the random divergence caused by the high learning rate at various epochs."
      ]
    },
    {
      "cell_type": "markdown",
      "metadata": {
        "id": "YN7krZeSNILH"
      },
      "source": [
        "# **Change the number of neurons in the hidden layer and find its impact on the accuracy**"
      ]
    },
    {
      "cell_type": "markdown",
      "metadata": {
        "id": "tMqb1YLSO4gp"
      },
      "source": [
        "1) Increase the number of neurons in the hidden layer"
      ]
    },
    {
      "cell_type": "code",
      "execution_count": 14,
      "metadata": {
        "id": "tAggN7pKNPvs"
      },
      "outputs": [],
      "source": [
        "net = Network([784, 50, 10])"
      ]
    },
    {
      "cell_type": "code",
      "execution_count": 15,
      "metadata": {
        "colab": {
          "base_uri": "https://localhost:8080/"
        },
        "id": "b0oZhL7bNWT_",
        "outputId": "51514e58-e654-4d5e-8570-d6b378926269"
      },
      "outputs": [
        {
          "name": "stdout",
          "output_type": "stream",
          "text": [
            "Epoch 0 : 8411 / 10000\n",
            "Epoch 1 : 8570 / 10000\n",
            "Epoch 2 : 9230 / 10000\n",
            "Epoch 3 : 9383 / 10000\n",
            "Epoch 4 : 9423 / 10000\n",
            "Epoch 5 : 9485 / 10000\n",
            "Epoch 6 : 9505 / 10000\n",
            "Epoch 7 : 9510 / 10000\n",
            "Epoch 8 : 9533 / 10000\n",
            "Epoch 9 : 9534 / 10000\n"
          ]
        }
      ],
      "source": [
        "net.SGD(training_data, 10, 10, 3.0, test_data=test_data)"
      ]
    },
    {
      "cell_type": "markdown",
      "metadata": {
        "id": "jMZzOKF7QWAp"
      },
      "source": [
        "Thus, increasing the number of neurons in the hidden layer generally increases the accuracy but it takes more time to train."
      ]
    },
    {
      "cell_type": "markdown",
      "metadata": {
        "id": "FKHA6bKhO788"
      },
      "source": [
        "2) Decrease the number of neurons in the hidden layer"
      ]
    },
    {
      "cell_type": "code",
      "execution_count": 16,
      "metadata": {
        "id": "83dndy0uO_FO"
      },
      "outputs": [],
      "source": [
        "net = Network([784, 4, 10])"
      ]
    },
    {
      "cell_type": "code",
      "execution_count": 17,
      "metadata": {
        "colab": {
          "base_uri": "https://localhost:8080/"
        },
        "id": "NzFul0lCPCRW",
        "outputId": "2f28230b-2a31-4704-b19f-b1d79dc30c13"
      },
      "outputs": [
        {
          "name": "stdout",
          "output_type": "stream",
          "text": [
            "Epoch 0 : 7357 / 10000\n",
            "Epoch 1 : 7474 / 10000\n",
            "Epoch 2 : 7792 / 10000\n",
            "Epoch 3 : 8168 / 10000\n",
            "Epoch 4 : 8342 / 10000\n",
            "Epoch 5 : 8184 / 10000\n",
            "Epoch 6 : 8368 / 10000\n",
            "Epoch 7 : 8389 / 10000\n",
            "Epoch 8 : 8305 / 10000\n",
            "Epoch 9 : 8352 / 10000\n"
          ]
        }
      ],
      "source": [
        "net.SGD(training_data, 10, 10, 3.0, test_data=test_data)"
      ]
    },
    {
      "cell_type": "markdown",
      "metadata": {
        "id": "ZtSktLi6QdOR"
      },
      "source": [
        "Thus, decreasing the number of neurons in the hidden layer reduces the accuracy but the training time is drastically reduced."
      ]
    },
    {
      "cell_type": "markdown",
      "metadata": {
        "id": "WMO7zArxPRPG"
      },
      "source": [
        "# **Remove the hidden layer and check the accuracy**"
      ]
    },
    {
      "cell_type": "code",
      "execution_count": 18,
      "metadata": {
        "id": "UJSNzyP2PVA5"
      },
      "outputs": [],
      "source": [
        "net = Network([784, 10])"
      ]
    },
    {
      "cell_type": "code",
      "execution_count": 19,
      "metadata": {
        "colab": {
          "base_uri": "https://localhost:8080/"
        },
        "id": "MvmeSIwSPXTZ",
        "outputId": "7a16738b-4081-4d56-ca6f-ec25e1d40101"
      },
      "outputs": [
        {
          "name": "stdout",
          "output_type": "stream",
          "text": [
            "Epoch 0 : 3770 / 10000\n",
            "Epoch 1 : 4764 / 10000\n",
            "Epoch 2 : 5662 / 10000\n",
            "Epoch 3 : 5676 / 10000\n",
            "Epoch 4 : 5694 / 10000\n",
            "Epoch 5 : 5713 / 10000\n",
            "Epoch 6 : 5728 / 10000\n",
            "Epoch 7 : 5717 / 10000\n",
            "Epoch 8 : 5723 / 10000\n",
            "Epoch 9 : 5745 / 10000\n"
          ]
        }
      ],
      "source": [
        "net.SGD(training_data, 10, 10, 3.0, test_data=test_data)"
      ]
    },
    {
      "cell_type": "markdown",
      "metadata": {
        "id": "0_WzG3woQ45N"
      },
      "source": [
        "After removing the hidden layers, the neural network is basically like linear regression with an activation function applied on it. Hidden layers perform transformation on the data and learn the characteristics of the input data in an abstract manner. Naturally, the accuracy takes a hit as we remove the hidden layer..."
      ]
    }
  ],
  "metadata": {
    "accelerator": "GPU",
    "colab": {
      "provenance": []
    },
    "gpuClass": "standard",
    "kernelspec": {
      "display_name": "Python 3",
      "name": "python3"
    },
    "language_info": {
      "name": "python"
    }
  },
  "nbformat": 4,
  "nbformat_minor": 0
}
